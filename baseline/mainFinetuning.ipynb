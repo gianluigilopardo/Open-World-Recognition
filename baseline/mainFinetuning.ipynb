{
  "nbformat": 4,
  "nbformat_minor": 0,
  "metadata": {
    "colab": {
      "name": "Untitled2.ipynb",
      "provenance": [],
      "toc_visible": true,
      "authorship_tag": "ABX9TyM1fUTi2v+BRuT32kbaf7px",
      "include_colab_link": true
    },
    "kernelspec": {
      "name": "python3",
      "display_name": "Python 3"
    },
    "language_info": {
      "name": "python"
    },
    "widgets": {
      "application/vnd.jupyter.widget-state+json": {
        "231a7cda35154ff783c15583917d3598": {
          "model_module": "@jupyter-widgets/controls",
          "model_name": "HBoxModel",
          "state": {
            "_view_name": "HBoxView",
            "_dom_classes": [],
            "_model_name": "HBoxModel",
            "_view_module": "@jupyter-widgets/controls",
            "_model_module_version": "1.5.0",
            "_view_count": null,
            "_view_module_version": "1.5.0",
            "box_style": "",
            "layout": "IPY_MODEL_278fff71a7f04afabda1e83c6cbca538",
            "_model_module": "@jupyter-widgets/controls",
            "children": [
              "IPY_MODEL_3759f8d7a94c462794d78c9d3d26c0c2",
              "IPY_MODEL_8fd8ab96d0f14ff7b50d5af5136f4fe0"
            ]
          }
        },
        "278fff71a7f04afabda1e83c6cbca538": {
          "model_module": "@jupyter-widgets/base",
          "model_name": "LayoutModel",
          "state": {
            "_view_name": "LayoutView",
            "grid_template_rows": null,
            "right": null,
            "justify_content": null,
            "_view_module": "@jupyter-widgets/base",
            "overflow": null,
            "_model_module_version": "1.2.0",
            "_view_count": null,
            "flex_flow": null,
            "width": null,
            "min_width": null,
            "border": null,
            "align_items": null,
            "bottom": null,
            "_model_module": "@jupyter-widgets/base",
            "top": null,
            "grid_column": null,
            "overflow_y": null,
            "overflow_x": null,
            "grid_auto_flow": null,
            "grid_area": null,
            "grid_template_columns": null,
            "flex": null,
            "_model_name": "LayoutModel",
            "justify_items": null,
            "grid_row": null,
            "max_height": null,
            "align_content": null,
            "visibility": null,
            "align_self": null,
            "height": null,
            "min_height": null,
            "padding": null,
            "grid_auto_rows": null,
            "grid_gap": null,
            "max_width": null,
            "order": null,
            "_view_module_version": "1.2.0",
            "grid_template_areas": null,
            "object_position": null,
            "object_fit": null,
            "grid_auto_columns": null,
            "margin": null,
            "display": null,
            "left": null
          }
        },
        "3759f8d7a94c462794d78c9d3d26c0c2": {
          "model_module": "@jupyter-widgets/controls",
          "model_name": "FloatProgressModel",
          "state": {
            "_view_name": "ProgressView",
            "style": "IPY_MODEL_b7c8d15c00744298b3543cca93752903",
            "_dom_classes": [],
            "description": "",
            "_model_name": "FloatProgressModel",
            "bar_style": "success",
            "max": 169001437,
            "_view_module": "@jupyter-widgets/controls",
            "_model_module_version": "1.5.0",
            "value": 169001437,
            "_view_count": null,
            "_view_module_version": "1.5.0",
            "orientation": "horizontal",
            "min": 0,
            "description_tooltip": null,
            "_model_module": "@jupyter-widgets/controls",
            "layout": "IPY_MODEL_e34e2a6f304c4c74b7bd3864cd5a9a40"
          }
        },
        "8fd8ab96d0f14ff7b50d5af5136f4fe0": {
          "model_module": "@jupyter-widgets/controls",
          "model_name": "HTMLModel",
          "state": {
            "_view_name": "HTMLView",
            "style": "IPY_MODEL_f36e7b0cb6d440dd8b157687f2118396",
            "_dom_classes": [],
            "description": "",
            "_model_name": "HTMLModel",
            "placeholder": "​",
            "_view_module": "@jupyter-widgets/controls",
            "_model_module_version": "1.5.0",
            "value": " 169001984/? [00:02&lt;00:00, 61157774.34it/s]",
            "_view_count": null,
            "_view_module_version": "1.5.0",
            "description_tooltip": null,
            "_model_module": "@jupyter-widgets/controls",
            "layout": "IPY_MODEL_5228cf6d56c449e0955d484327da6ebe"
          }
        },
        "b7c8d15c00744298b3543cca93752903": {
          "model_module": "@jupyter-widgets/controls",
          "model_name": "ProgressStyleModel",
          "state": {
            "_view_name": "StyleView",
            "_model_name": "ProgressStyleModel",
            "description_width": "initial",
            "_view_module": "@jupyter-widgets/base",
            "_model_module_version": "1.5.0",
            "_view_count": null,
            "_view_module_version": "1.2.0",
            "bar_color": null,
            "_model_module": "@jupyter-widgets/controls"
          }
        },
        "e34e2a6f304c4c74b7bd3864cd5a9a40": {
          "model_module": "@jupyter-widgets/base",
          "model_name": "LayoutModel",
          "state": {
            "_view_name": "LayoutView",
            "grid_template_rows": null,
            "right": null,
            "justify_content": null,
            "_view_module": "@jupyter-widgets/base",
            "overflow": null,
            "_model_module_version": "1.2.0",
            "_view_count": null,
            "flex_flow": null,
            "width": null,
            "min_width": null,
            "border": null,
            "align_items": null,
            "bottom": null,
            "_model_module": "@jupyter-widgets/base",
            "top": null,
            "grid_column": null,
            "overflow_y": null,
            "overflow_x": null,
            "grid_auto_flow": null,
            "grid_area": null,
            "grid_template_columns": null,
            "flex": null,
            "_model_name": "LayoutModel",
            "justify_items": null,
            "grid_row": null,
            "max_height": null,
            "align_content": null,
            "visibility": null,
            "align_self": null,
            "height": null,
            "min_height": null,
            "padding": null,
            "grid_auto_rows": null,
            "grid_gap": null,
            "max_width": null,
            "order": null,
            "_view_module_version": "1.2.0",
            "grid_template_areas": null,
            "object_position": null,
            "object_fit": null,
            "grid_auto_columns": null,
            "margin": null,
            "display": null,
            "left": null
          }
        },
        "f36e7b0cb6d440dd8b157687f2118396": {
          "model_module": "@jupyter-widgets/controls",
          "model_name": "DescriptionStyleModel",
          "state": {
            "_view_name": "StyleView",
            "_model_name": "DescriptionStyleModel",
            "description_width": "",
            "_view_module": "@jupyter-widgets/base",
            "_model_module_version": "1.5.0",
            "_view_count": null,
            "_view_module_version": "1.2.0",
            "_model_module": "@jupyter-widgets/controls"
          }
        },
        "5228cf6d56c449e0955d484327da6ebe": {
          "model_module": "@jupyter-widgets/base",
          "model_name": "LayoutModel",
          "state": {
            "_view_name": "LayoutView",
            "grid_template_rows": null,
            "right": null,
            "justify_content": null,
            "_view_module": "@jupyter-widgets/base",
            "overflow": null,
            "_model_module_version": "1.2.0",
            "_view_count": null,
            "flex_flow": null,
            "width": null,
            "min_width": null,
            "border": null,
            "align_items": null,
            "bottom": null,
            "_model_module": "@jupyter-widgets/base",
            "top": null,
            "grid_column": null,
            "overflow_y": null,
            "overflow_x": null,
            "grid_auto_flow": null,
            "grid_area": null,
            "grid_template_columns": null,
            "flex": null,
            "_model_name": "LayoutModel",
            "justify_items": null,
            "grid_row": null,
            "max_height": null,
            "align_content": null,
            "visibility": null,
            "align_self": null,
            "height": null,
            "min_height": null,
            "padding": null,
            "grid_auto_rows": null,
            "grid_gap": null,
            "max_width": null,
            "order": null,
            "_view_module_version": "1.2.0",
            "grid_template_areas": null,
            "object_position": null,
            "object_fit": null,
            "grid_auto_columns": null,
            "margin": null,
            "display": null,
            "left": null
          }
        }
      }
    }
  },
  "cells": [
    {
      "cell_type": "markdown",
      "metadata": {
        "id": "view-in-github",
        "colab_type": "text"
      },
      "source": [
        "<a href=\"https://colab.research.google.com/github/gianluigilopardo/Open-World-Recognition/blob/main/baseline/mainFinetuning.ipynb\" target=\"_parent\"><img src=\"https://colab.research.google.com/assets/colab-badge.svg\" alt=\"Open In Colab\"/></a>"
      ]
    },
    {
      "cell_type": "code",
      "metadata": {
        "id": "YFGmKHWsVRbo"
      },
      "source": [
        "import os\n",
        "import logging\n",
        "import sys\n",
        "import matplotlib.pyplot as plt\n",
        "from torch.utils.data import DataLoader\n",
        "from torchvision import transforms\n",
        "from torchvision import datasets\n",
        "import pandas as pd\n",
        "from sklearn.metrics import confusion_matrix\n",
        "import seaborn as sn\n",
        "import torch.nn as nn\n",
        "\n"
      ],
      "execution_count": 2,
      "outputs": []
    },
    {
      "cell_type": "code",
      "metadata": {
        "colab": {
          "base_uri": "https://localhost:8080/"
        },
        "id": "FUYmIEioVcEg",
        "outputId": "f7a6fe33-2fca-404f-da5f-2fe28203479f"
      },
      "source": [
        "if not os.path.isdir('./owr'):\n",
        "  !git clone https://github.com/gianluigilopardo/Open-World-Recognition.git\n",
        "  !mv 'Open-World-Recognition' 'owr'"
      ],
      "execution_count": 3,
      "outputs": [
        {
          "output_type": "stream",
          "text": [
            "Cloning into 'Open-World-Recognition'...\n",
            "remote: Enumerating objects: 514, done.\u001b[K\n",
            "remote: Counting objects: 100% (257/257), done.\u001b[K\n",
            "remote: Compressing objects: 100% (141/141), done.\u001b[K\n",
            "remote: Total 514 (delta 158), reused 145 (delta 107), pack-reused 257\u001b[K\n",
            "Receiving objects: 100% (514/514), 2.09 MiB | 26.44 MiB/s, done.\n",
            "Resolving deltas: 100% (301/301), done.\n"
          ],
          "name": "stdout"
        }
      ]
    },
    {
      "cell_type": "code",
      "metadata": {
        "id": "3OJXssnUVtwa"
      },
      "source": [
        "from owr.baseline import ResNet\n",
        "from owr.baseline import models\n",
        "from owr.baseline import params\n",
        "from owr.baseline import utils\n",
        "from owr.baseline.dataset import *"
      ],
      "execution_count": 4,
      "outputs": []
    },
    {
      "cell_type": "code",
      "metadata": {
        "colab": {
          "base_uri": "https://localhost:8080/",
          "height": 151,
          "referenced_widgets": [
            "231a7cda35154ff783c15583917d3598",
            "278fff71a7f04afabda1e83c6cbca538",
            "3759f8d7a94c462794d78c9d3d26c0c2",
            "8fd8ab96d0f14ff7b50d5af5136f4fe0",
            "b7c8d15c00744298b3543cca93752903",
            "e34e2a6f304c4c74b7bd3864cd5a9a40",
            "f36e7b0cb6d440dd8b157687f2118396",
            "5228cf6d56c449e0955d484327da6ebe"
          ]
        },
        "id": "o7vRdrSqVX2L",
        "outputId": "b7903749-455f-4ae4-980b-d46e8db52398"
      },
      "source": [
        "###### This script is the main for running finetuning on CIFAR 100 dataset\n",
        "# remeber to set lr = 2 in params before running.\n",
        "print(f\"learning rate : {params.LR}\")\n",
        "print(f\"learning rate schedule epochs: {params.STEP_SIZE}\")\n",
        "\n",
        "############################################################\n",
        "#################### DATA MANAGEMENT #######################\n",
        "\n",
        "cifar = datasets.cifar.CIFAR100\n",
        "# Initializations\n",
        "# transformers\n",
        "train_transformer = transforms.Compose([transforms.RandomCrop(size=32, padding=4),\n",
        "                                        transforms.RandomHorizontalFlip(),\n",
        "                                        transforms.ToTensor(),\n",
        "                                        transforms.Normalize((0.5, 0.5, 0.5), (0.5, 0.5, 0.5))\n",
        "                                        ])\n",
        "\n",
        "test_transformer = transforms.Compose([transforms.ToTensor(),\n",
        "                                       transforms.Normalize((0.5, 0.5, 0.5), (0.5, 0.5, 0.5))\n",
        "                                       ])\n",
        "train_dataset = cifar('data', train=True, download=True, transform=train_transformer)\n",
        "test_dataset = cifar('data', train=False, download=True, transform=test_transformer)\n",
        "# splits\n",
        "splits = utils.splitter()\n",
        "\n",
        "###########################################################################\n",
        "##################### instantiate BiC object###############################\n",
        "\n",
        "model = ResNet.resnet32(num_classes=params.NUM_CLASSES).to(params.DEVICE)\n",
        "# simplification: we initialize the network with all the classes\n",
        "\n",
        "#########################################################################################\n",
        "##################### Loss Function (Only classification) ###############################\n",
        "loss_function = nn.BCEWithLogitsLoss()  # CrossEntropyLoss() #\n",
        "\n",
        "############################################################################\n",
        "# lists for the evaluation phase\n",
        "test_indexes = []\n",
        "# vectors for accuracy curves\n",
        "train_accs = []\n",
        "test_accs = []\n",
        "\n",
        "#############################################################################\n",
        "##################  RUN THE INCREMENTAL TRAINING ############################\n",
        "\n",
        "for task in range(0, params.NUM_CLASSES, params.TASK_SIZE):\n",
        "    #########################################################################\n",
        "    ######## MANAGE THE DATA FOR THE CURRENT TASK ###########################\n",
        "\n",
        "    train_indexes = utils.get_task_indexes(train_dataset, task)\n",
        "    test_indexes = test_indexes + utils.get_task_indexes(test_dataset, task)\n",
        "\n",
        "    train_subset = Subset(train_dataset, train_indexes, transform=train_transformer)\n",
        "    test_subset = Subset(test_dataset, test_indexes, transform=test_transformer)\n",
        "\n",
        "    train_loader = DataLoader(train_subset, num_workers=params.NUM_WORKERS,\n",
        "                              batch_size=params.BATCH_SIZE, shuffle=True)\n",
        "    test_loader = DataLoader(test_subset, num_workers=params.NUM_WORKERS,\n",
        "                             batch_size=params.BATCH_SIZE, shuffle=True)\n",
        "    # instantiate optimizer and scheduler for this task\n",
        "    optimizer = torch.optim.SGD(model.parameters(), lr=params.LR, momentum=params.MOMENTUM,\n",
        "                                weight_decay=params.WEIGHT_DECAY)\n",
        "    scheduler = torch.optim.lr_scheduler.MultiStepLR(optimizer, params.STEP_SIZE,\n",
        "                                                     gamma=params.GAMMA)  # allow to change the LR at predefined epochs\n",
        "    classes = utils.get_classes(splits, task) # classes until now\n",
        "\n",
        "    ################################### Incremental Training ##########################################\n",
        "    # train the model without preventing catastrofic forgetting\n",
        "    model = models.train_network_lower_bound(classes, model, optimizer, train_loader, scheduler, task)\n",
        "\n",
        "    ########################## EVALUATION OF THE CURRENT INCREMENTAL STEP #############################\n",
        "\n",
        "    print('\\n EVALUATION \\n')\n",
        "    classes = []\n",
        "    for i, x in enumerate(splits[:int(task / params.TASK_SIZE) + 1]):\n",
        "        v = np.array(x)\n",
        "        classes = np.concatenate((classes, v), axis=None)\n",
        "        classes = classes.astype(int)\n",
        "    total = 0.0\n",
        "    running_corrects = 0.0\n",
        "    for img, lbl, _ in train_loader:\n",
        "        img = img.float().to(params.DEVICE)\n",
        "        outputs = model(img)\n",
        "        cut_outputs = np.take_along_axis(outputs.to(params.DEVICE), classes[None, :], axis=1).to(params.DEVICE)\n",
        "        _, preds = torch.max(cut_outputs.data, 1)\n",
        "        preds = preds.to(params.DEVICE)\n",
        "        labels = utils.map_splits(lbl, classes).to(params.DEVICE)\n",
        "        total += len(lbl)\n",
        "        running_corrects += torch.sum(preds == labels.data).data.item()\n",
        "    accuracy = float(running_corrects / total)\n",
        "    print(f'task: {task}', f'train accuracy = {accuracy}')\n",
        "    train_accs.append(accuracy)\n",
        "\n",
        "    total = 0.0\n",
        "    running_corrects = 0.0\n",
        "    tot_preds = []\n",
        "    tot_lab = []\n",
        "    for img, lbl, _ in test_loader:\n",
        "        img = img.float().to(params.DEVICE)\n",
        "        outputs = model(img)\n",
        "        cut_outputs = np.take_along_axis(outputs.to(params.DEVICE), classes[None, :], axis=1).to(params.DEVICE)\n",
        "        _, preds = torch.max(cut_outputs.data, 1)\n",
        "        preds = preds.to(params.DEVICE)\n",
        "        labels = utils.map_splits(lbl, classes).to(params.DEVICE)\n",
        "\n",
        "        tot_preds = np.concatenate((tot_preds, preds.data.cpu().numpy()))\n",
        "        tot_lab = np.concatenate((tot_lab, labels.data.cpu().numpy()))\n",
        "\n",
        "        total += len(lbl)\n",
        "        running_corrects += torch.sum(preds == labels.data).data.item()\n",
        "        # print('running_corrects: ' + str(running_corrects))\n",
        "    accuracy = float(running_corrects / total)\n",
        "    test_accs.append(accuracy)\n",
        "    print(f'task: {task}', f'test accuracy = {accuracy}')\n",
        "    # cf = confusion_matrix(tot_lab, tot_preds)\n",
        "    # df_cm = pd.DataFrame(cf, range(task + params.TASK_SIZE), range(task + params.TASK_SIZE))\n",
        "\n",
        "######################################################################################\n",
        "#################### PLOT THE WHOLE ACCURACY CURVES ##################################\n",
        "\n",
        "print(f\"Training accuracies : {train_accs}\")\n",
        "print(f\"Testing accuracies : {test_accs}\")\n",
        "plt.plot(train_accs, 'go-', label='training accuracies', linewidth=2)\n",
        "plt.plot(test_accs, 'rs-', label='testing accuracies')\n",
        "plt.legend()\n",
        "plt.show()"
      ],
      "execution_count": null,
      "outputs": [
        {
          "output_type": "stream",
          "text": [
            "learning rate : 0.1\n",
            "learning rate schedule epochs: [49, 63]\n",
            "Downloading https://www.cs.toronto.edu/~kriz/cifar-100-python.tar.gz to data/cifar-100-python.tar.gz\n"
          ],
          "name": "stdout"
        },
        {
          "output_type": "display_data",
          "data": {
            "application/vnd.jupyter.widget-view+json": {
              "model_id": "231a7cda35154ff783c15583917d3598",
              "version_minor": 0,
              "version_major": 2
            },
            "text/plain": [
              "HBox(children=(FloatProgress(value=0.0, max=169001437.0), HTML(value='')))"
            ]
          },
          "metadata": {
            "tags": []
          }
        },
        {
          "output_type": "stream",
          "text": [
            "\n",
            "Extracting data/cifar-100-python.tar.gz to data\n",
            "Files already downloaded and verified\n"
          ],
          "name": "stdout"
        }
      ]
    }
  ]
}