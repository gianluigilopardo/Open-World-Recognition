{
  "nbformat": 4,
  "nbformat_minor": 0,
  "metadata": {
    "colab": {
      "name": "mainLWF.ipynb",
      "provenance": [],
      "authorship_tag": "ABX9TyOZzRML6TqLIdhE9/rAdxYS",
      "include_colab_link": true
    },
    "kernelspec": {
      "name": "python3",
      "display_name": "Python 3"
    },
    "language_info": {
      "name": "python"
    },
    "widgets": {
      "application/vnd.jupyter.widget-state+json": {
        "c9a82ab6e4aa456d849eaba2fdf35a3e": {
          "model_module": "@jupyter-widgets/controls",
          "model_name": "HBoxModel",
          "state": {
            "_view_name": "HBoxView",
            "_dom_classes": [],
            "_model_name": "HBoxModel",
            "_view_module": "@jupyter-widgets/controls",
            "_model_module_version": "1.5.0",
            "_view_count": null,
            "_view_module_version": "1.5.0",
            "box_style": "",
            "layout": "IPY_MODEL_4d268107432048ecb6de12c2eb179428",
            "_model_module": "@jupyter-widgets/controls",
            "children": [
              "IPY_MODEL_b0ddfb1806054d97975d6565ad07f4b2",
              "IPY_MODEL_e9eefbb631fb4a1a993317edb674a661"
            ]
          }
        },
        "4d268107432048ecb6de12c2eb179428": {
          "model_module": "@jupyter-widgets/base",
          "model_name": "LayoutModel",
          "state": {
            "_view_name": "LayoutView",
            "grid_template_rows": null,
            "right": null,
            "justify_content": null,
            "_view_module": "@jupyter-widgets/base",
            "overflow": null,
            "_model_module_version": "1.2.0",
            "_view_count": null,
            "flex_flow": null,
            "width": null,
            "min_width": null,
            "border": null,
            "align_items": null,
            "bottom": null,
            "_model_module": "@jupyter-widgets/base",
            "top": null,
            "grid_column": null,
            "overflow_y": null,
            "overflow_x": null,
            "grid_auto_flow": null,
            "grid_area": null,
            "grid_template_columns": null,
            "flex": null,
            "_model_name": "LayoutModel",
            "justify_items": null,
            "grid_row": null,
            "max_height": null,
            "align_content": null,
            "visibility": null,
            "align_self": null,
            "height": null,
            "min_height": null,
            "padding": null,
            "grid_auto_rows": null,
            "grid_gap": null,
            "max_width": null,
            "order": null,
            "_view_module_version": "1.2.0",
            "grid_template_areas": null,
            "object_position": null,
            "object_fit": null,
            "grid_auto_columns": null,
            "margin": null,
            "display": null,
            "left": null
          }
        },
        "b0ddfb1806054d97975d6565ad07f4b2": {
          "model_module": "@jupyter-widgets/controls",
          "model_name": "FloatProgressModel",
          "state": {
            "_view_name": "ProgressView",
            "style": "IPY_MODEL_d2b7cab6cf33431493fa7a788158667d",
            "_dom_classes": [],
            "description": "",
            "_model_name": "FloatProgressModel",
            "bar_style": "success",
            "max": 169001437,
            "_view_module": "@jupyter-widgets/controls",
            "_model_module_version": "1.5.0",
            "value": 169001437,
            "_view_count": null,
            "_view_module_version": "1.5.0",
            "orientation": "horizontal",
            "min": 0,
            "description_tooltip": null,
            "_model_module": "@jupyter-widgets/controls",
            "layout": "IPY_MODEL_ff4287fe28104245924a7fda7d35930e"
          }
        },
        "e9eefbb631fb4a1a993317edb674a661": {
          "model_module": "@jupyter-widgets/controls",
          "model_name": "HTMLModel",
          "state": {
            "_view_name": "HTMLView",
            "style": "IPY_MODEL_c1de6b6d414e47ea8d5cb9de621e8ed2",
            "_dom_classes": [],
            "description": "",
            "_model_name": "HTMLModel",
            "placeholder": "​",
            "_view_module": "@jupyter-widgets/controls",
            "_model_module_version": "1.5.0",
            "value": " 169001984/? [00:06&lt;00:00, 24654222.22it/s]",
            "_view_count": null,
            "_view_module_version": "1.5.0",
            "description_tooltip": null,
            "_model_module": "@jupyter-widgets/controls",
            "layout": "IPY_MODEL_82d7c597f3a140f197e428cb9b63d51c"
          }
        },
        "d2b7cab6cf33431493fa7a788158667d": {
          "model_module": "@jupyter-widgets/controls",
          "model_name": "ProgressStyleModel",
          "state": {
            "_view_name": "StyleView",
            "_model_name": "ProgressStyleModel",
            "description_width": "initial",
            "_view_module": "@jupyter-widgets/base",
            "_model_module_version": "1.5.0",
            "_view_count": null,
            "_view_module_version": "1.2.0",
            "bar_color": null,
            "_model_module": "@jupyter-widgets/controls"
          }
        },
        "ff4287fe28104245924a7fda7d35930e": {
          "model_module": "@jupyter-widgets/base",
          "model_name": "LayoutModel",
          "state": {
            "_view_name": "LayoutView",
            "grid_template_rows": null,
            "right": null,
            "justify_content": null,
            "_view_module": "@jupyter-widgets/base",
            "overflow": null,
            "_model_module_version": "1.2.0",
            "_view_count": null,
            "flex_flow": null,
            "width": null,
            "min_width": null,
            "border": null,
            "align_items": null,
            "bottom": null,
            "_model_module": "@jupyter-widgets/base",
            "top": null,
            "grid_column": null,
            "overflow_y": null,
            "overflow_x": null,
            "grid_auto_flow": null,
            "grid_area": null,
            "grid_template_columns": null,
            "flex": null,
            "_model_name": "LayoutModel",
            "justify_items": null,
            "grid_row": null,
            "max_height": null,
            "align_content": null,
            "visibility": null,
            "align_self": null,
            "height": null,
            "min_height": null,
            "padding": null,
            "grid_auto_rows": null,
            "grid_gap": null,
            "max_width": null,
            "order": null,
            "_view_module_version": "1.2.0",
            "grid_template_areas": null,
            "object_position": null,
            "object_fit": null,
            "grid_auto_columns": null,
            "margin": null,
            "display": null,
            "left": null
          }
        },
        "c1de6b6d414e47ea8d5cb9de621e8ed2": {
          "model_module": "@jupyter-widgets/controls",
          "model_name": "DescriptionStyleModel",
          "state": {
            "_view_name": "StyleView",
            "_model_name": "DescriptionStyleModel",
            "description_width": "",
            "_view_module": "@jupyter-widgets/base",
            "_model_module_version": "1.5.0",
            "_view_count": null,
            "_view_module_version": "1.2.0",
            "_model_module": "@jupyter-widgets/controls"
          }
        },
        "82d7c597f3a140f197e428cb9b63d51c": {
          "model_module": "@jupyter-widgets/base",
          "model_name": "LayoutModel",
          "state": {
            "_view_name": "LayoutView",
            "grid_template_rows": null,
            "right": null,
            "justify_content": null,
            "_view_module": "@jupyter-widgets/base",
            "overflow": null,
            "_model_module_version": "1.2.0",
            "_view_count": null,
            "flex_flow": null,
            "width": null,
            "min_width": null,
            "border": null,
            "align_items": null,
            "bottom": null,
            "_model_module": "@jupyter-widgets/base",
            "top": null,
            "grid_column": null,
            "overflow_y": null,
            "overflow_x": null,
            "grid_auto_flow": null,
            "grid_area": null,
            "grid_template_columns": null,
            "flex": null,
            "_model_name": "LayoutModel",
            "justify_items": null,
            "grid_row": null,
            "max_height": null,
            "align_content": null,
            "visibility": null,
            "align_self": null,
            "height": null,
            "min_height": null,
            "padding": null,
            "grid_auto_rows": null,
            "grid_gap": null,
            "max_width": null,
            "order": null,
            "_view_module_version": "1.2.0",
            "grid_template_areas": null,
            "object_position": null,
            "object_fit": null,
            "grid_auto_columns": null,
            "margin": null,
            "display": null,
            "left": null
          }
        }
      }
    }
  },
  "cells": [
    {
      "cell_type": "markdown",
      "metadata": {
        "id": "view-in-github",
        "colab_type": "text"
      },
      "source": [
        "<a href=\"https://colab.research.google.com/github/gianluigilopardo/Open-World-Recognition/blob/main/baseline/mainLWF.ipynb\" target=\"_parent\"><img src=\"https://colab.research.google.com/assets/colab-badge.svg\" alt=\"Open In Colab\"/></a>"
      ]
    },
    {
      "cell_type": "code",
      "metadata": {
        "colab": {
          "base_uri": "https://localhost:8080/",
          "height": 371,
          "referenced_widgets": [
            "c9a82ab6e4aa456d849eaba2fdf35a3e",
            "4d268107432048ecb6de12c2eb179428",
            "b0ddfb1806054d97975d6565ad07f4b2",
            "e9eefbb631fb4a1a993317edb674a661",
            "d2b7cab6cf33431493fa7a788158667d",
            "ff4287fe28104245924a7fda7d35930e",
            "c1de6b6d414e47ea8d5cb9de621e8ed2",
            "82d7c597f3a140f197e428cb9b63d51c"
          ]
        },
        "id": "iqY9dO1yUhNH",
        "outputId": "aeceff78-8801-49b3-9023-c318a2a9a1a2"
      },
      "source": [
        "import os\n",
        "import logging\n",
        "import sys\n",
        "\n",
        "import torch\n",
        "from torch.utils.data import DataLoader\n",
        "from torchvision import transforms\n",
        "from torchvision import datasets\n",
        "import pandas as pd\n",
        "import torch.nn as nn\n",
        "from sklearn.metrics import confusion_matrix\n",
        "import seaborn as sn\n",
        "\n",
        "\n",
        "if not os.path.isdir('./owr'):\n",
        "  !git clone https://github.com/gianluigilopardo/Open-World-Recognition.git\n",
        "  !mv 'Open-World-Recognition' 'owr'\n",
        "\n",
        "from owr.baseline import ResNet\n",
        "from owr.baseline import params\n",
        "from owr.baseline import utils\n",
        "from owr.baseline import models\n",
        "from owr.baseline.dataset import *\n",
        "from owr.baseline import icarl\n",
        "\n",
        "#PYCHARM:\n",
        "\n",
        "# import ResNet\n",
        "# import params\n",
        "# import utils\n",
        "# import dataset\n",
        "\n",
        "#Here we address the catastrophic forgetting by adding distillation loss during the training that aims to preserve the knowledge on old classes as implemented in iCaRL paper\n",
        "\n",
        "# preprocessing\n",
        "train_transformer = transforms.Compose([transforms.RandomCrop(size=32, padding=4),\n",
        "                                        transforms.RandomHorizontalFlip(),\n",
        "                                        transforms.ToTensor(),\n",
        "                                        transforms.Normalize((0.5, 0.5, 0.5), (0.5, 0.5, 0.5))\n",
        "                                        ])\n",
        "\n",
        "test_transformer = transforms.Compose([transforms.ToTensor(),\n",
        "                                       transforms.Normalize((0.5, 0.5, 0.5), (0.5, 0.5, 0.5))\n",
        "                                       ])\n",
        "\n",
        "# dataset\n",
        "cifar = datasets.cifar.CIFAR100\n",
        "train_dataset = cifar('data', train=True, download=True, transform=train_transformer)\n",
        "test_dataset = cifar('data', train=False, download=True, transform=test_transformer)\n",
        "\n",
        "# splits\n",
        "splits = utils.splitter()\n",
        "print('splits: ' + str(splits))\n",
        "\n",
        "# model: simplification: we initialize the network with all the classes\n",
        "model = ResNet.resnet32(num_classes=params.NUM_CLASSES).to(params.DEVICE) #.to() Performs Tensor dtype and/or device conversion. \n",
        "optimizer = torch.optim.SGD(model.parameters(), lr=params.LR, momentum=params.MOMENTUM, \n",
        "                            weight_decay=params.WEIGHT_DECAY)\n",
        "scheduler = torch.optim.lr_scheduler.MultiStepLR(optimizer, params.STEP_SIZE,gamma=params.GAMMA) #change learning rate at epoch 49 and 63 with a factor gamma\n",
        "\n",
        "\n",
        "# Run\n",
        "test_indexes=[]\n",
        "metrics = [None] * params.NUM_TASKS  # se non inizializzo con None da errore\n",
        "\n",
        "exemplars = [None] * params.NUM_CLASSES #not used in LWF\n",
        "\n",
        "test_indexes = []\n",
        "accs = []\n",
        "\n",
        "for task in range(0, params.NUM_CLASSES, params.TASK_SIZE): #incremental train\n",
        "  \n",
        "    train_indexes = utils.get_task_indexes(train_dataset, task) #store the indexes of training images of classes that belong to the current task\n",
        "    test_indexes = test_indexes + utils.get_task_indexes(test_dataset, task) #same reasoning for test data but in this case we accumulate the indexes since we test on all classes seen so far\n",
        "\n",
        "    train_subset = Subset(train_dataset, train_indexes, transform=train_transformer) #create incremental training and testing datasets \n",
        "    test_subset = Subset(test_dataset, test_indexes, transform=test_transformer)\n",
        "\n",
        "    train_loader = DataLoader(train_subset, num_workers=params.NUM_WORKERS,\n",
        "                          batch_size=params.BATCH_SIZE, shuffle=True)\n",
        "    test_loader = DataLoader(test_subset, num_workers=params.NUM_WORKERS,\n",
        "                         batch_size=params.BATCH_SIZE, shuffle=True)\n",
        "\n",
        "    if (task == 0):\n",
        "      torch.save(model, 'resNet_task{0}.pt'.format(task)) #in the first task we store the model as Resnet_task{0}\n",
        "\n",
        "    models.trainLWF(task, train_loader, splits)\n",
        "    loss_accuracy = models.testLWF(task, test_loader, splits)\n",
        "    metrics[int(task / 10)] = loss_accuracy  # pars_task[i] = (accuracy, loss) at i-th task"
      ],
      "execution_count": null,
      "outputs": [
        {
          "output_type": "stream",
          "text": [
            "Cloning into 'Open-World-Recognition'...\n",
            "remote: Enumerating objects: 507, done.\u001b[K\n",
            "remote: Counting objects: 100% (250/250), done.\u001b[K\n",
            "remote: Compressing objects: 100% (134/134), done.\u001b[K\n",
            "remote: Total 507 (delta 153), reused 145 (delta 107), pack-reused 257\u001b[K\n",
            "Receiving objects: 100% (507/507), 2.09 MiB | 29.70 MiB/s, done.\n",
            "Resolving deltas: 100% (296/296), done.\n",
            "Downloading https://www.cs.toronto.edu/~kriz/cifar-100-python.tar.gz to data/cifar-100-python.tar.gz\n"
          ],
          "name": "stdout"
        },
        {
          "output_type": "display_data",
          "data": {
            "application/vnd.jupyter.widget-view+json": {
              "model_id": "c9a82ab6e4aa456d849eaba2fdf35a3e",
              "version_minor": 0,
              "version_major": 2
            },
            "text/plain": [
              "HBox(children=(FloatProgress(value=0.0, max=169001437.0), HTML(value='')))"
            ]
          },
          "metadata": {
            "tags": []
          }
        },
        {
          "output_type": "stream",
          "text": [
            "\n",
            "Extracting data/cifar-100-python.tar.gz to data\n",
            "Files already downloaded and verified\n",
            "splits: [[81, 14, 3, 94, 35, 31, 28, 17, 13, 86], [90, 18, 4, 42, 38, 34, 21, 16, 96, 76], [22, 5, 49, 45, 41, 25, 20, 85, 15, 68], [27, 6, 57, 53, 50, 32, 26, 65, 70, 82], [72, 11, 1, 80, 39, 36, 33, 12, 95, 10], [84, 24, 2, 51, 47, 46, 29, 23, 74, 19], [43, 7, 61, 59, 58, 44, 40, 37, 77, 98], [79, 30, 0, 88, 56, 55, 89, 48, 97, 73], [54, 8, 66, 64, 91, 52, 71, 9, 69, 92], [67, 99, 83, 63, 60, 87, 62, 75, 78, 93]]\n",
            "task = 0 \n",
            "train col =  [81 14  3 94 35 31 28 17 13 86]\n",
            "train col =  [[81 14  3 94 35 31 28 17 13 86]]\n"
          ],
          "name": "stdout"
        },
        {
          "output_type": "stream",
          "text": [
            "/usr/local/lib/python3.7/dist-packages/torch/optim/lr_scheduler.py:134: UserWarning: Detected call of `lr_scheduler.step()` before `optimizer.step()`. In PyTorch 1.1.0 and later, you should call them in the opposite order: `optimizer.step()` before `lr_scheduler.step()`.  Failure to do this will result in PyTorch skipping the first value of the learning rate schedule. See more details at https://pytorch.org/docs/stable/optim.html#how-to-adjust-learning-rate\n",
            "  \"https://pytorch.org/docs/stable/optim.html#how-to-adjust-learning-rate\", UserWarning)\n"
          ],
          "name": "stderr"
        },
        {
          "output_type": "stream",
          "text": [
            "At step  0  and at epoch =  0  the loss is =  0.03742843493819237  and accuracy is =  0.0998\n"
          ],
          "name": "stdout"
        }
      ]
    }
  ]
}