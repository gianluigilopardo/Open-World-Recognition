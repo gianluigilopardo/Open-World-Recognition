{
  "nbformat": 4,
  "nbformat_minor": 0,
  "metadata": {
    "accelerator": "GPU",
    "colab": {
      "name": "iCaRLMain-KNN.ipynb",
      "provenance": [],
      "collapsed_sections": []
    },
    "kernelspec": {
      "display_name": "py38_pytorch",
      "language": "python",
      "name": "conda-env-py38_pytorch-py"
    },
    "language_info": {
      "codemirror_mode": {
        "name": "ipython",
        "version": 3
      },
      "file_extension": ".py",
      "mimetype": "text/x-python",
      "name": "python",
      "nbconvert_exporter": "python",
      "pygments_lexer": "ipython3",
      "version": "3.8.10"
    }
  },
  "cells": [
    {
      "cell_type": "markdown",
      "metadata": {
        "id": "WmAxWzsbzUEG"
      },
      "source": [
        "RUN KNN WITH BCE BCE"
      ]
    },
    {
      "cell_type": "markdown",
      "metadata": {
        "id": "OLMLAOPyrR1K"
      },
      "source": [
        "# Import GitHub repository"
      ]
    },
    {
      "cell_type": "code",
      "metadata": {
        "id": "3LqwZJLUlcYH"
      },
      "source": [
        "import os\n",
        "import logging\n",
        "import sys"
      ],
      "execution_count": 1,
      "outputs": []
    },
    {
      "cell_type": "code",
      "metadata": {
        "colab": {
          "base_uri": "https://localhost:8080/"
        },
        "id": "J3hcjgTPy1Xa",
        "outputId": "c6e1cb08-cda9-435b-a86c-fe76b739e668"
      },
      "source": [
        "import torch\n",
        "torch.cuda.is_available()"
      ],
      "execution_count": 2,
      "outputs": [
        {
          "output_type": "execute_result",
          "data": {
            "text/plain": [
              "True"
            ]
          },
          "metadata": {
            "tags": []
          },
          "execution_count": 2
        }
      ]
    },
    {
      "cell_type": "code",
      "metadata": {
        "id": "PVa_FlnxrXIk"
      },
      "source": [
        "if not os.path.isdir('./owr'):\n",
        "  !git clone -b icarl https://github.com/gianluigilopardo/Open-World-Recognition.git\n",
        "  !mv 'Open-World-Recognition' 'owr'"
      ],
      "execution_count": 3,
      "outputs": []
    },
    {
      "cell_type": "markdown",
      "metadata": {
        "id": "XXQyHMXzrZ5A"
      },
      "source": [
        "# Import packages"
      ]
    },
    {
      "cell_type": "code",
      "metadata": {
        "id": "Fbc5JEp-MIc2"
      },
      "source": [
        "from owr import ResNet\n",
        "from owr.dataset import Subset\n",
        "from owr.icarl import classify\n",
        "from owr.icarl import incremental_train\n",
        "from owr.icarl import update_representation\n",
        "from owr.icarl import construct_exemplar_set\n",
        "from owr.icarl import reduce_exemplars\n",
        "from owr.icarl import generate_new_exemplars\n",
        "from owr.models import compute_loss\n",
        "from owr.models import train_network\n",
        "from owr import params\n",
        "from owr import utils\n",
        "from owr.utils import get_classes_names\n",
        "from owr.utils import get_task_indexes\n",
        "from owr.utils import splitter\n",
        "from owr.utils import map_splits\n",
        "from owr.utils import get_classes\n",
        "from owr.utils import get_indexes\n",
        "import owr.models"
      ],
      "execution_count": 4,
      "outputs": []
    },
    {
      "cell_type": "code",
      "metadata": {
        "id": "PG5dRGuxOMtB"
      },
      "source": [
        "from torchvision import models\n",
        "import torch.nn as nn\n",
        "import torch\n",
        "import torch.optim as optim\n",
        "import torchvision\n",
        "import numpy as np\n",
        "import seaborn as sn\n",
        "import pandas as pd\n",
        "import matplotlib.pyplot as plt\n",
        "from sklearn.metrics import confusion_matrix\n",
        "from sklearn.model_selection import GridSearchCV\n",
        "from sklearn.neighbors import KNeighborsClassifier\n",
        "from torchvision import transforms\n",
        "from torch.utils.data import DataLoader\n",
        "from torch.nn import functional as F\n",
        "import random"
      ],
      "execution_count": 5,
      "outputs": []
    },
    {
      "cell_type": "code",
      "metadata": {
        "colab": {
          "base_uri": "https://localhost:8080/"
        },
        "id": "W41g_ZMjy1Xd",
        "outputId": "f4a4f4fe-b87a-413b-f42c-3159b15c46c8"
      },
      "source": [
        "pip install seaborn"
      ],
      "execution_count": 6,
      "outputs": [
        {
          "output_type": "stream",
          "text": [
            "Requirement already satisfied: seaborn in /usr/local/lib/python3.7/dist-packages (0.11.1)\n",
            "Requirement already satisfied: matplotlib>=2.2 in /usr/local/lib/python3.7/dist-packages (from seaborn) (3.2.2)\n",
            "Requirement already satisfied: pandas>=0.23 in /usr/local/lib/python3.7/dist-packages (from seaborn) (1.1.5)\n",
            "Requirement already satisfied: scipy>=1.0 in /usr/local/lib/python3.7/dist-packages (from seaborn) (1.4.1)\n",
            "Requirement already satisfied: numpy>=1.15 in /usr/local/lib/python3.7/dist-packages (from seaborn) (1.19.5)\n",
            "Requirement already satisfied: kiwisolver>=1.0.1 in /usr/local/lib/python3.7/dist-packages (from matplotlib>=2.2->seaborn) (1.3.1)\n",
            "Requirement already satisfied: pyparsing!=2.0.4,!=2.1.2,!=2.1.6,>=2.0.1 in /usr/local/lib/python3.7/dist-packages (from matplotlib>=2.2->seaborn) (2.4.7)\n",
            "Requirement already satisfied: python-dateutil>=2.1 in /usr/local/lib/python3.7/dist-packages (from matplotlib>=2.2->seaborn) (2.8.1)\n",
            "Requirement already satisfied: cycler>=0.10 in /usr/local/lib/python3.7/dist-packages (from matplotlib>=2.2->seaborn) (0.10.0)\n",
            "Requirement already satisfied: pytz>=2017.2 in /usr/local/lib/python3.7/dist-packages (from pandas>=0.23->seaborn) (2018.9)\n",
            "Requirement already satisfied: six>=1.5 in /usr/local/lib/python3.7/dist-packages (from python-dateutil>=2.1->matplotlib>=2.2->seaborn) (1.15.0)\n"
          ],
          "name": "stdout"
        }
      ]
    },
    {
      "cell_type": "code",
      "metadata": {
        "colab": {
          "base_uri": "https://localhost:8080/"
        },
        "id": "r2rkcBbIKfUQ",
        "outputId": "b4a71614-102c-4237-dc13-167f05cf7329"
      },
      "source": [
        "print(params.SEED)\n",
        "print(params.NUM_WORKERS)"
      ],
      "execution_count": 7,
      "outputs": [
        {
          "output_type": "stream",
          "text": [
            "42\n",
            "2\n"
          ],
          "name": "stdout"
        }
      ]
    },
    {
      "cell_type": "markdown",
      "metadata": {
        "id": "1FlAkShyryrf"
      },
      "source": [
        "# Define Datasets"
      ]
    },
    {
      "cell_type": "code",
      "metadata": {
        "id": "AP2iR2vl3Wiz"
      },
      "source": [
        "train_transformer = transforms.Compose([transforms.RandomCrop(size = 32, padding=4),\n",
        "                                         transforms.RandomHorizontalFlip(),\n",
        "                                         transforms.ToTensor(),\n",
        "                                         transforms.Normalize((0.5, 0.5, 0.5), (0.5, 0.5, 0.5))\n",
        "])\n",
        "\n",
        "test_transformer = transforms.Compose([transforms.ToTensor(),\n",
        "                                         transforms.Normalize((0.5, 0.5, 0.5), (0.5, 0.5, 0.5))\n",
        "])"
      ],
      "execution_count": 8,
      "outputs": []
    },
    {
      "cell_type": "code",
      "metadata": {
        "colab": {
          "base_uri": "https://localhost:8080/"
        },
        "id": "1CSNk0NlrvAL",
        "outputId": "8aec0fc2-fe2d-4416-b885-6a36b0a3de47"
      },
      "source": [
        "from torchvision import datasets\n",
        "trainDS = datasets.cifar.CIFAR100( 'data', train=True, download=True, transform=train_transformer)\n",
        "testDS = datasets.cifar.CIFAR100( 'data', train=False, download=True, transform=test_transformer)"
      ],
      "execution_count": 9,
      "outputs": [
        {
          "output_type": "stream",
          "text": [
            "Files already downloaded and verified\n",
            "Files already downloaded and verified\n"
          ],
          "name": "stdout"
        }
      ]
    },
    {
      "cell_type": "code",
      "metadata": {
        "id": "W3ge3VayryJL"
      },
      "source": [
        "splits = splitter()"
      ],
      "execution_count": 10,
      "outputs": []
    },
    {
      "cell_type": "markdown",
      "metadata": {
        "id": "AzxTlFF_rkfe"
      },
      "source": [
        "# Define Network"
      ]
    },
    {
      "cell_type": "code",
      "metadata": {
        "id": "rgZtPkiPrmQK"
      },
      "source": [
        "ICaRL = ResNet.resnet32(num_classes=100)\n",
        "ICaRL =  ICaRL.to(params.DEVICE)"
      ],
      "execution_count": 11,
      "outputs": []
    },
    {
      "cell_type": "code",
      "metadata": {
        "id": "CI8EyFmpOikN"
      },
      "source": [
        "exemplars = [None]*params.NUM_CLASSES\n",
        "\n",
        "test_indexes =  []\n",
        "accs_train = []\n",
        "accs_test = []\n",
        "classifier = 'nme'"
      ],
      "execution_count": 12,
      "outputs": []
    },
    {
      "cell_type": "code",
      "metadata": {
        "id": "W56xyFKQy1Xg"
      },
      "source": [
        "classifier = KNeighborsClassifier()\n",
        "clf_params = {'n_neighbors' : np.arange(1,19,2)}"
      ],
      "execution_count": 13,
      "outputs": []
    },
    {
      "cell_type": "code",
      "metadata": {
        "id": "ZOMJWX8RM_5I"
      },
      "source": [
        "def tmp_classify(images, exemplars, model, task, train_dataset, mean=None, classifier='nme', clf_params=None):\n",
        "    if classifier == 'nme':\n",
        "        preds, mean = classify_nme(images, exemplars, model, task, train_dataset, mean)\n",
        "        return preds, mean\n",
        "    else:\n",
        "        preds, mean = classify_models(images, exemplars, model, task, train_dataset, mean, classifier, clf_params)\n",
        "        return preds, mean\n",
        "\n",
        "def classify_models(images, exemplars, model, task, train_dataset, cv, classifier, clf_params):\n",
        "    splits = utils.splitter()\n",
        "    model.train(False)\n",
        "    m = torch.nn.Softmax(dim=1)\n",
        "    with torch.no_grad():\n",
        "        images = images.float().to(params.DEVICE)\n",
        "        x_test = model(images)\n",
        "        x_test = m(x_test)\n",
        "    if cv == None:\n",
        "        analyzed_classes = []\n",
        "        for i in range(int(task / params.TASK_SIZE)+1):\n",
        "            analyzed_classes = np.concatenate((analyzed_classes, splits[i]))\n",
        "        l = []\n",
        "        for k in range(len(analyzed_classes)):\n",
        "            class_k = int(analyzed_classes[k])\n",
        "            l.extend(exemplars[class_k])\n",
        "\n",
        "        transformer = transforms.Compose([transforms.ToTensor(), transforms.Normalize((0.5, 0.5, 0.5), (0.5, 0.5, 0.5))])\n",
        "        subset = Subset(train_dataset, l, transformer)\n",
        "        data_loader = DataLoader(subset, num_workers=params.NUM_WORKERS, batch_size=params.BATCH_SIZE)\n",
        "        df = pd.DataFrame(columns = ['data', 'labels'])\n",
        "        for images, labels, idxs in data_loader:\n",
        "            with torch.no_grad():\n",
        "                images = images.float().to(params.DEVICE)\n",
        "                x = model(images)\n",
        "                x = m(x)\n",
        "                tmp = pd.DataFrame()\n",
        "                tmp['data'] = x.to('cpu')\n",
        "                tmp['labels'] = labels.to('cpu')\n",
        "                df = df.append(tmp)\n",
        "        cv = GridSearchCV(classifier, clf_params)\n",
        "        cv.fit(list(df['data']),list(df['labels']) )\n",
        "        print(cv.best_params_)\n",
        "    preds = cv.predict(x_test.to('cpu'))\n",
        "    return torch.tensor(preds), cv"
      ],
      "execution_count": 14,
      "outputs": []
    },
    {
      "cell_type": "code",
      "metadata": {
        "colab": {
          "base_uri": "https://localhost:8080/"
        },
        "id": "fcFjbBGrOMz6",
        "outputId": "b3b41403-b735-45da-80e4-2b96e4727918"
      },
      "source": [
        "for task in range(0, params.NUM_TASKS*params.TASK_SIZE, params.TASK_SIZE):\n",
        "    train_indexes = get_task_indexes(trainDS, task)\n",
        "    test_indexes = test_indexes + get_task_indexes(testDS, task)\n",
        "\n",
        "    train_dataset = Subset(trainDS, train_indexes, transform = train_transformer)\n",
        "    test_dataset = Subset(testDS, test_indexes, transform = test_transformer)\n",
        "\n",
        "    train_loader = DataLoader( train_dataset, num_workers=2, batch_size=params.BATCH_SIZE, shuffle=True)\n",
        "    test_loader = DataLoader( test_dataset, num_workers=2, batch_size=params.BATCH_SIZE , shuffle=True )\n",
        "    print(task)\n",
        "    ICaRL, exemplars = incremental_train(trainDS, ICaRL, exemplars, task, train_transformer, loss_version='opt1')\n",
        "    col = []\n",
        "    for i,x in enumerate( splits[ :int(task/10) + 1]) : \n",
        "        v = np.array(x)\n",
        "        col = np.concatenate( (col,v), axis = None)\n",
        "        col = col.astype(int)\n",
        "    mean = None\n",
        "    total = 0.0\n",
        "    running_corrects = 0.0\n",
        "    \n",
        "    for img, lbl, _ in train_loader:\n",
        "        img = img.float().to(params.DEVICE)\n",
        "        preds, mean = tmp_classify(img, exemplars, ICaRL, task, trainDS, mean, classifier, clf_params)\n",
        "        preds = preds.to(params.DEVICE)\n",
        "        if classifier == 'nme':\n",
        "            labels = map_splits(lbl, col).to(params.DEVICE)\n",
        "        else:\n",
        "            labels = lbl.to(params.DEVICE)\n",
        "        total += len(lbl)\n",
        "        running_corrects += torch.sum(preds == labels.data).data.item()\n",
        "\n",
        "    accuracy = float(running_corrects/total)\n",
        "    print(f'task: {task}', f'train accuracy = {accuracy}')\n",
        "    accs_train.append(accuracy)\n",
        "\n",
        "    total = 0.0\n",
        "    running_corrects = 0.0\n",
        "    tot_preds = []\n",
        "    tot_lab = []\n",
        "    for img, lbl, _ in test_loader:\n",
        "        img = img.float().to(params.DEVICE)\n",
        "        preds, _ = tmp_classify(img, exemplars, ICaRL, task, trainDS, mean, classifier, clf_params)\n",
        "        preds = preds.to(params.DEVICE)\n",
        "        if classifier == 'nme':\n",
        "            labels = map_splits(lbl, col).to(params.DEVICE)\n",
        "        else:\n",
        "            labels = lbl.to(params.DEVICE)\n",
        "        tot_preds = np.concatenate( ( tot_preds, preds.data.cpu().numpy() ) )\n",
        "        tot_lab = np.concatenate( (tot_lab, labels.data.cpu().numpy()  ) )\n",
        "        total += len(lbl)\n",
        "        running_corrects += torch.sum(preds == labels.data).data.item()\n",
        "\n",
        "    accuracy = float(running_corrects/total)\n",
        "    print(f'task: {task}', f'test accuracy = {accuracy}')\n",
        "    accs_test.append(accuracy)"
      ],
      "execution_count": 15,
      "outputs": [
        {
          "output_type": "stream",
          "text": [
            "0\n",
            "Step: 0, Epoch: 0, Loss: 0.03431284800171852, Accuracy: 0.1932\n",
            "Step: 0, Epoch: 1, Loss: 0.020580248907208443, Accuracy: 0.4112\n",
            "Step: 0, Epoch: 2, Loss: 0.022878309711813927, Accuracy: 0.4986\n",
            "Step: 0, Epoch: 3, Loss: 0.02522558718919754, Accuracy: 0.5448\n",
            "Step: 0, Epoch: 4, Loss: 0.02785695716738701, Accuracy: 0.5808\n",
            "Step: 0, Epoch: 5, Loss: 0.012539481744170189, Accuracy: 0.602\n",
            "Step: 0, Epoch: 6, Loss: 0.013883430510759354, Accuracy: 0.6284\n",
            "Step: 0, Epoch: 7, Loss: 0.016325512900948524, Accuracy: 0.6728\n",
            "Step: 0, Epoch: 8, Loss: 0.018430085852742195, Accuracy: 0.6632\n",
            "Step: 0, Epoch: 9, Loss: 0.01624341867864132, Accuracy: 0.6854\n",
            "Step: 0, Epoch: 10, Loss: 0.017453674226999283, Accuracy: 0.6996\n",
            "Step: 0, Epoch: 11, Loss: 0.019068263471126556, Accuracy: 0.7142\n",
            "Step: 0, Epoch: 12, Loss: 0.014780747704207897, Accuracy: 0.7308\n",
            "Step: 0, Epoch: 13, Loss: 0.009104738011956215, Accuracy: 0.7368\n",
            "Step: 0, Epoch: 14, Loss: 0.00784625206142664, Accuracy: 0.7608\n",
            "Step: 0, Epoch: 15, Loss: 0.016319990158081055, Accuracy: 0.769\n",
            "Step: 0, Epoch: 16, Loss: 0.011407626792788506, Accuracy: 0.7702\n",
            "Step: 0, Epoch: 17, Loss: 0.012601449154317379, Accuracy: 0.761\n",
            "Step: 0, Epoch: 18, Loss: 0.005582720972597599, Accuracy: 0.7858\n",
            "Step: 0, Epoch: 19, Loss: 0.006487698294222355, Accuracy: 0.7938\n",
            "Step: 0, Epoch: 20, Loss: 0.01600857451558113, Accuracy: 0.7938\n",
            "Step: 0, Epoch: 21, Loss: 0.029281113296747208, Accuracy: 0.7948\n",
            "Step: 0, Epoch: 22, Loss: 0.016736429184675217, Accuracy: 0.7796\n",
            "Step: 0, Epoch: 23, Loss: 0.015644513070583344, Accuracy: 0.801\n",
            "Step: 0, Epoch: 24, Loss: 0.00940818153321743, Accuracy: 0.8168\n",
            "Step: 0, Epoch: 25, Loss: 0.011030270718038082, Accuracy: 0.8196\n",
            "Step: 0, Epoch: 26, Loss: 0.007598364260047674, Accuracy: 0.8152\n",
            "Step: 0, Epoch: 27, Loss: 0.031132685020565987, Accuracy: 0.8422\n",
            "Step: 0, Epoch: 28, Loss: 0.015737995505332947, Accuracy: 0.8078\n",
            "Step: 0, Epoch: 29, Loss: 0.014712455682456493, Accuracy: 0.825\n",
            "Step: 0, Epoch: 30, Loss: 0.009715002961456776, Accuracy: 0.8414\n",
            "Step: 0, Epoch: 31, Loss: 0.0040789018385112286, Accuracy: 0.8392\n",
            "Step: 0, Epoch: 32, Loss: 0.016822848469018936, Accuracy: 0.8574\n",
            "Step: 0, Epoch: 33, Loss: 0.010547301732003689, Accuracy: 0.8456\n",
            "Step: 0, Epoch: 34, Loss: 0.006249311845749617, Accuracy: 0.8526\n",
            "Step: 0, Epoch: 35, Loss: 0.007846382446587086, Accuracy: 0.8584\n",
            "Step: 0, Epoch: 36, Loss: 0.0198392104357481, Accuracy: 0.8638\n",
            "Step: 0, Epoch: 37, Loss: 0.021059980615973473, Accuracy: 0.7852\n",
            "Step: 0, Epoch: 38, Loss: 0.031706273555755615, Accuracy: 0.83\n",
            "Step: 0, Epoch: 39, Loss: 0.0071512386202812195, Accuracy: 0.8554\n",
            "Step: 0, Epoch: 40, Loss: 0.0026923175901174545, Accuracy: 0.8748\n",
            "Step: 0, Epoch: 41, Loss: 0.021350571885704994, Accuracy: 0.894\n",
            "Step: 0, Epoch: 42, Loss: 0.019926732406020164, Accuracy: 0.8496\n",
            "Step: 0, Epoch: 43, Loss: 0.0171513631939888, Accuracy: 0.8618\n",
            "Step: 0, Epoch: 44, Loss: 0.004374992568045855, Accuracy: 0.8374\n",
            "Step: 0, Epoch: 45, Loss: 0.01288615632802248, Accuracy: 0.8914\n",
            "Step: 0, Epoch: 46, Loss: 0.0049610016867518425, Accuracy: 0.8752\n",
            "Step: 0, Epoch: 47, Loss: 0.012328607961535454, Accuracy: 0.8916\n",
            "Step: 0, Epoch: 48, Loss: 0.02191455103456974, Accuracy: 0.8572\n",
            "Step: 0, Epoch: 49, Loss: 0.011098090559244156, Accuracy: 0.9006\n",
            "Step: 0, Epoch: 50, Loss: 0.003362941322848201, Accuracy: 0.9266\n",
            "Step: 0, Epoch: 51, Loss: 0.014051646925508976, Accuracy: 0.933\n",
            "Step: 0, Epoch: 52, Loss: 0.007145330775529146, Accuracy: 0.9372\n",
            "Step: 0, Epoch: 53, Loss: 0.007976175285875797, Accuracy: 0.9366\n",
            "Step: 0, Epoch: 54, Loss: 0.018459822982549667, Accuracy: 0.9434\n",
            "Step: 0, Epoch: 55, Loss: 0.015795264393091202, Accuracy: 0.9334\n",
            "Step: 0, Epoch: 56, Loss: 0.0027969973161816597, Accuracy: 0.947\n",
            "Step: 0, Epoch: 57, Loss: 0.0011739402543753386, Accuracy: 0.9468\n",
            "Step: 0, Epoch: 58, Loss: 0.01451851800084114, Accuracy: 0.9518\n",
            "Step: 0, Epoch: 59, Loss: 0.008728919550776482, Accuracy: 0.9506\n",
            "Step: 0, Epoch: 60, Loss: 0.012473151087760925, Accuracy: 0.9448\n",
            "Step: 0, Epoch: 61, Loss: 0.0031711922492831945, Accuracy: 0.9536\n",
            "Step: 0, Epoch: 62, Loss: 0.018553664907813072, Accuracy: 0.9586\n",
            "Step: 0, Epoch: 63, Loss: 0.013610567897558212, Accuracy: 0.961\n",
            "Step: 0, Epoch: 64, Loss: 0.045104678720235825, Accuracy: 0.9624\n",
            "Step: 0, Epoch: 65, Loss: 0.009692146442830563, Accuracy: 0.9648\n",
            "Step: 0, Epoch: 66, Loss: 0.0017483633710071445, Accuracy: 0.964\n",
            "Step: 0, Epoch: 67, Loss: 0.0021629517432302237, Accuracy: 0.9632\n",
            "Step: 0, Epoch: 68, Loss: 0.003496737452223897, Accuracy: 0.9652\n",
            "Step: 0, Epoch: 69, Loss: 0.005819967947900295, Accuracy: 0.9636\n"
          ],
          "name": "stdout"
        },
        {
          "output_type": "stream",
          "text": [
            "/content/owr/icarl.py:173: UserWarning: To copy construct from a tensor, it is recommended to use sourceTensor.clone().detach() or sourceTensor.clone().detach().requires_grad_(True), rather than torch.tensor(sourceTensor).\n",
            "  image = torch.tensor(image).unsqueeze(0).float()\n"
          ],
          "name": "stderr"
        },
        {
          "output_type": "stream",
          "text": [
            "udpate representation:  375 reduce exemplars: 0 costruct exemplars: 29\n",
            "{'n_neighbors': 15}\n",
            "task: 0 train accuracy = 0.975\n",
            "task: 0 test accuracy = 0.872\n",
            "10\n",
            "Step: 10, Epoch: 0, Loss: 0.032751936465501785, Accuracy: 0.2845714285714286\n",
            "Step: 10, Epoch: 1, Loss: 0.030763747170567513, Accuracy: 0.33814285714285713\n",
            "Step: 10, Epoch: 2, Loss: 0.025517834350466728, Accuracy: 0.39285714285714285\n",
            "Step: 10, Epoch: 3, Loss: 0.023691989481449127, Accuracy: 0.45071428571428573\n",
            "Step: 10, Epoch: 4, Loss: 0.02470260299742222, Accuracy: 0.48642857142857143\n",
            "Step: 10, Epoch: 5, Loss: 0.026802418753504753, Accuracy: 0.5147142857142857\n",
            "Step: 10, Epoch: 6, Loss: 0.025226926431059837, Accuracy: 0.5425714285714286\n",
            "Step: 10, Epoch: 7, Loss: 0.025221018120646477, Accuracy: 0.5587142857142857\n",
            "Step: 10, Epoch: 8, Loss: 0.023517640307545662, Accuracy: 0.58\n",
            "Step: 10, Epoch: 9, Loss: 0.021366577595472336, Accuracy: 0.5971428571428572\n",
            "Step: 10, Epoch: 10, Loss: 0.021298861131072044, Accuracy: 0.6107142857142858\n",
            "Step: 10, Epoch: 11, Loss: 0.022945726290345192, Accuracy: 0.6082857142857143\n",
            "Step: 10, Epoch: 12, Loss: 0.020222507417201996, Accuracy: 0.6282857142857143\n",
            "Step: 10, Epoch: 13, Loss: 0.02333843521773815, Accuracy: 0.6514285714285715\n",
            "Step: 10, Epoch: 14, Loss: 0.02093982696533203, Accuracy: 0.6517142857142857\n",
            "Step: 10, Epoch: 15, Loss: 0.022002598270773888, Accuracy: 0.659\n",
            "Step: 10, Epoch: 16, Loss: 0.022129202261567116, Accuracy: 0.6774285714285714\n",
            "Step: 10, Epoch: 17, Loss: 0.02343112602829933, Accuracy: 0.6772857142857143\n",
            "Step: 10, Epoch: 18, Loss: 0.019343137741088867, Accuracy: 0.676\n",
            "Step: 10, Epoch: 19, Loss: 0.017130685970187187, Accuracy: 0.6928571428571428\n",
            "Step: 10, Epoch: 20, Loss: 0.018586058169603348, Accuracy: 0.7078571428571429\n",
            "Step: 10, Epoch: 21, Loss: 0.020523982122540474, Accuracy: 0.703\n",
            "Step: 10, Epoch: 22, Loss: 0.018083160743117332, Accuracy: 0.7245714285714285\n",
            "Step: 10, Epoch: 23, Loss: 0.022270748391747475, Accuracy: 0.7248571428571429\n",
            "Step: 10, Epoch: 24, Loss: 0.019188720732927322, Accuracy: 0.7252857142857143\n",
            "Step: 10, Epoch: 25, Loss: 0.020499108359217644, Accuracy: 0.7301428571428571\n",
            "Step: 10, Epoch: 26, Loss: 0.022689253091812134, Accuracy: 0.7468571428571429\n",
            "Step: 10, Epoch: 27, Loss: 0.02078097313642502, Accuracy: 0.7528571428571429\n",
            "Step: 10, Epoch: 28, Loss: 0.018666384741663933, Accuracy: 0.7527142857142857\n",
            "Step: 10, Epoch: 29, Loss: 0.02168179117143154, Accuracy: 0.7427142857142857\n",
            "Step: 10, Epoch: 30, Loss: 0.018675632774829865, Accuracy: 0.7555714285714286\n",
            "Step: 10, Epoch: 31, Loss: 0.020884227007627487, Accuracy: 0.7642857142857142\n",
            "Step: 10, Epoch: 32, Loss: 0.01678481325507164, Accuracy: 0.7725714285714286\n",
            "Step: 10, Epoch: 33, Loss: 0.016182703897356987, Accuracy: 0.766\n",
            "Step: 10, Epoch: 34, Loss: 0.02007542923092842, Accuracy: 0.7778571428571428\n",
            "Step: 10, Epoch: 35, Loss: 0.017590798437595367, Accuracy: 0.7765714285714286\n",
            "Step: 10, Epoch: 36, Loss: 0.018807359039783478, Accuracy: 0.7831428571428571\n",
            "Step: 10, Epoch: 37, Loss: 0.017574047669768333, Accuracy: 0.7748571428571429\n",
            "Step: 10, Epoch: 38, Loss: 0.016270840540528297, Accuracy: 0.7834285714285715\n",
            "Step: 10, Epoch: 39, Loss: 0.015832986682653427, Accuracy: 0.7895714285714286\n",
            "Step: 10, Epoch: 40, Loss: 0.016949428245425224, Accuracy: 0.7912857142857143\n",
            "Step: 10, Epoch: 41, Loss: 0.016511429101228714, Accuracy: 0.7951428571428572\n",
            "Step: 10, Epoch: 42, Loss: 0.01840183325111866, Accuracy: 0.7951428571428572\n",
            "Step: 10, Epoch: 43, Loss: 0.0175534226000309, Accuracy: 0.806\n",
            "Step: 10, Epoch: 44, Loss: 0.01730203628540039, Accuracy: 0.805\n",
            "Step: 10, Epoch: 45, Loss: 0.017240086570382118, Accuracy: 0.8112857142857143\n",
            "Step: 10, Epoch: 46, Loss: 0.015923839062452316, Accuracy: 0.8154285714285714\n",
            "Step: 10, Epoch: 47, Loss: 0.01732501946389675, Accuracy: 0.8062857142857143\n",
            "Step: 10, Epoch: 48, Loss: 0.016254832968115807, Accuracy: 0.8008571428571428\n",
            "Step: 10, Epoch: 49, Loss: 0.013121131807565689, Accuracy: 0.8534285714285714\n",
            "Step: 10, Epoch: 50, Loss: 0.01243248488754034, Accuracy: 0.8727142857142857\n",
            "Step: 10, Epoch: 51, Loss: 0.013357223011553288, Accuracy: 0.8741428571428571\n",
            "Step: 10, Epoch: 52, Loss: 0.014560945332050323, Accuracy: 0.8775714285714286\n",
            "Step: 10, Epoch: 53, Loss: 0.012316467240452766, Accuracy: 0.8892857142857142\n",
            "Step: 10, Epoch: 54, Loss: 0.010634860955178738, Accuracy: 0.8857142857142857\n",
            "Step: 10, Epoch: 55, Loss: 0.012738952413201332, Accuracy: 0.8932857142857142\n",
            "Step: 10, Epoch: 56, Loss: 0.012631217017769814, Accuracy: 0.8962857142857142\n",
            "Step: 10, Epoch: 57, Loss: 0.011560642160475254, Accuracy: 0.8991428571428571\n",
            "Step: 10, Epoch: 58, Loss: 0.01291936170309782, Accuracy: 0.895\n",
            "Step: 10, Epoch: 59, Loss: 0.011660446412861347, Accuracy: 0.9025714285714286\n",
            "Step: 10, Epoch: 60, Loss: 0.010312628000974655, Accuracy: 0.9017142857142857\n",
            "Step: 10, Epoch: 61, Loss: 0.01281850878149271, Accuracy: 0.901\n",
            "Step: 10, Epoch: 62, Loss: 0.012232287786900997, Accuracy: 0.908\n",
            "Step: 10, Epoch: 63, Loss: 0.01039366889744997, Accuracy: 0.9087142857142857\n",
            "Step: 10, Epoch: 64, Loss: 0.010824654251337051, Accuracy: 0.913\n",
            "Step: 10, Epoch: 65, Loss: 0.008713340386748314, Accuracy: 0.911\n",
            "Step: 10, Epoch: 66, Loss: 0.009154405444860458, Accuracy: 0.9158571428571428\n",
            "Step: 10, Epoch: 67, Loss: 0.010362720116972923, Accuracy: 0.9165714285714286\n",
            "Step: 10, Epoch: 68, Loss: 0.011862320825457573, Accuracy: 0.909\n",
            "Step: 10, Epoch: 69, Loss: 0.010392033495008945, Accuracy: 0.9162857142857143\n"
          ],
          "name": "stdout"
        },
        {
          "output_type": "stream",
          "text": [
            "/content/owr/icarl.py:173: UserWarning: To copy construct from a tensor, it is recommended to use sourceTensor.clone().detach() or sourceTensor.clone().detach().requires_grad_(True), rather than torch.tensor(sourceTensor).\n",
            "  image = torch.tensor(image).unsqueeze(0).float()\n"
          ],
          "name": "stderr"
        },
        {
          "output_type": "stream",
          "text": [
            "udpate representation:  703 reduce exemplars: 0 costruct exemplars: 29\n",
            "{'n_neighbors': 5}\n",
            "task: 10 train accuracy = 0.9384\n",
            "task: 10 test accuracy = 0.7455\n",
            "20\n",
            "Step: 20, Epoch: 0, Loss: 0.041063014417886734, Accuracy: 0.25285714285714284\n",
            "Step: 20, Epoch: 1, Loss: 0.041495587676763535, Accuracy: 0.3107142857142857\n",
            "Step: 20, Epoch: 2, Loss: 0.03628894314169884, Accuracy: 0.3452857142857143\n",
            "Step: 20, Epoch: 3, Loss: 0.03188394010066986, Accuracy: 0.37385714285714283\n",
            "Step: 20, Epoch: 4, Loss: 0.03488212078809738, Accuracy: 0.4014285714285714\n",
            "Step: 20, Epoch: 5, Loss: 0.032719437032938004, Accuracy: 0.42957142857142855\n",
            "Step: 20, Epoch: 6, Loss: 0.03004724718630314, Accuracy: 0.4501428571428571\n",
            "Step: 20, Epoch: 7, Loss: 0.037194568663835526, Accuracy: 0.4697142857142857\n",
            "Step: 20, Epoch: 8, Loss: 0.03188354894518852, Accuracy: 0.5014285714285714\n",
            "Step: 20, Epoch: 9, Loss: 0.03176271542906761, Accuracy: 0.5054285714285714\n",
            "Step: 20, Epoch: 10, Loss: 0.03349728509783745, Accuracy: 0.5304285714285715\n",
            "Step: 20, Epoch: 11, Loss: 0.028718305751681328, Accuracy: 0.539\n",
            "Step: 20, Epoch: 12, Loss: 0.030986173078417778, Accuracy: 0.5462857142857143\n",
            "Step: 20, Epoch: 13, Loss: 0.029504800215363503, Accuracy: 0.5778571428571428\n",
            "Step: 20, Epoch: 14, Loss: 0.02771379053592682, Accuracy: 0.5847142857142857\n",
            "Step: 20, Epoch: 15, Loss: 0.032562728971242905, Accuracy: 0.5865714285714285\n",
            "Step: 20, Epoch: 16, Loss: 0.03072236105799675, Accuracy: 0.6047142857142858\n",
            "Step: 20, Epoch: 17, Loss: 0.028253331780433655, Accuracy: 0.6037142857142858\n",
            "Step: 20, Epoch: 18, Loss: 0.030827561393380165, Accuracy: 0.6178571428571429\n",
            "Step: 20, Epoch: 19, Loss: 0.028627725318074226, Accuracy: 0.624\n",
            "Step: 20, Epoch: 20, Loss: 0.03484254702925682, Accuracy: 0.6358571428571429\n",
            "Step: 20, Epoch: 21, Loss: 0.03155158832669258, Accuracy: 0.63\n",
            "Step: 20, Epoch: 22, Loss: 0.027252040803432465, Accuracy: 0.6414285714285715\n",
            "Step: 20, Epoch: 23, Loss: 0.0323982872068882, Accuracy: 0.6568571428571428\n",
            "Step: 20, Epoch: 24, Loss: 0.028521301224827766, Accuracy: 0.659\n",
            "Step: 20, Epoch: 25, Loss: 0.0276204664260149, Accuracy: 0.6612857142857143\n",
            "Step: 20, Epoch: 26, Loss: 0.034994807094335556, Accuracy: 0.6877142857142857\n",
            "Step: 20, Epoch: 27, Loss: 0.026641953736543655, Accuracy: 0.6672857142857143\n",
            "Step: 20, Epoch: 28, Loss: 0.024924635887145996, Accuracy: 0.6782857142857143\n",
            "Step: 20, Epoch: 29, Loss: 0.027845941483974457, Accuracy: 0.6951428571428572\n",
            "Step: 20, Epoch: 30, Loss: 0.03127210959792137, Accuracy: 0.6964285714285714\n",
            "Step: 20, Epoch: 31, Loss: 0.028456030413508415, Accuracy: 0.6948571428571428\n",
            "Step: 20, Epoch: 32, Loss: 0.02829759009182453, Accuracy: 0.7074285714285714\n",
            "Step: 20, Epoch: 33, Loss: 0.03006919100880623, Accuracy: 0.7028571428571428\n",
            "Step: 20, Epoch: 34, Loss: 0.029691217467188835, Accuracy: 0.7237142857142858\n",
            "Step: 20, Epoch: 35, Loss: 0.02900889702141285, Accuracy: 0.7114285714285714\n",
            "Step: 20, Epoch: 36, Loss: 0.027969758957624435, Accuracy: 0.7227142857142858\n",
            "Step: 20, Epoch: 37, Loss: 0.024423886090517044, Accuracy: 0.728\n",
            "Step: 20, Epoch: 38, Loss: 0.028954291716217995, Accuracy: 0.7274285714285714\n",
            "Step: 20, Epoch: 39, Loss: 0.023102177307009697, Accuracy: 0.732\n",
            "Step: 20, Epoch: 40, Loss: 0.026926064863801003, Accuracy: 0.7311428571428571\n",
            "Step: 20, Epoch: 41, Loss: 0.026328295469284058, Accuracy: 0.7394285714285714\n",
            "Step: 20, Epoch: 42, Loss: 0.02731606550514698, Accuracy: 0.7371428571428571\n",
            "Step: 20, Epoch: 43, Loss: 0.028945159167051315, Accuracy: 0.7337142857142858\n",
            "Step: 20, Epoch: 44, Loss: 0.029536327347159386, Accuracy: 0.7528571428571429\n",
            "Step: 20, Epoch: 45, Loss: 0.028222551569342613, Accuracy: 0.7487142857142857\n",
            "Step: 20, Epoch: 46, Loss: 0.02657700516283512, Accuracy: 0.7578571428571429\n",
            "Step: 20, Epoch: 47, Loss: 0.02625093050301075, Accuracy: 0.7501428571428571\n",
            "Step: 20, Epoch: 48, Loss: 0.02944696694612503, Accuracy: 0.7498571428571429\n",
            "Step: 20, Epoch: 49, Loss: 0.025092333555221558, Accuracy: 0.8081428571428572\n",
            "Step: 20, Epoch: 50, Loss: 0.025748131796717644, Accuracy: 0.8181428571428572\n",
            "Step: 20, Epoch: 51, Loss: 0.022896545007824898, Accuracy: 0.8251428571428572\n",
            "Step: 20, Epoch: 52, Loss: 0.02071387879550457, Accuracy: 0.8327142857142857\n",
            "Step: 20, Epoch: 53, Loss: 0.02127739228308201, Accuracy: 0.8388571428571429\n",
            "Step: 20, Epoch: 54, Loss: 0.021787112578749657, Accuracy: 0.8421428571428572\n",
            "Step: 20, Epoch: 55, Loss: 0.023592839017510414, Accuracy: 0.8458571428571429\n",
            "Step: 20, Epoch: 56, Loss: 0.023212432861328125, Accuracy: 0.8458571428571429\n",
            "Step: 20, Epoch: 57, Loss: 0.022873718291521072, Accuracy: 0.8481428571428572\n",
            "Step: 20, Epoch: 58, Loss: 0.023052195087075233, Accuracy: 0.8515714285714285\n",
            "Step: 20, Epoch: 59, Loss: 0.02125965990126133, Accuracy: 0.8508571428571429\n",
            "Step: 20, Epoch: 60, Loss: 0.02152113802731037, Accuracy: 0.8558571428571429\n",
            "Step: 20, Epoch: 61, Loss: 0.022516800090670586, Accuracy: 0.8558571428571429\n",
            "Step: 20, Epoch: 62, Loss: 0.02396535687148571, Accuracy: 0.8632857142857143\n",
            "Step: 20, Epoch: 63, Loss: 0.021251961588859558, Accuracy: 0.8668571428571429\n",
            "Step: 20, Epoch: 64, Loss: 0.020286664366722107, Accuracy: 0.8717142857142857\n",
            "Step: 20, Epoch: 65, Loss: 0.019763445481657982, Accuracy: 0.8635714285714285\n",
            "Step: 20, Epoch: 66, Loss: 0.02084849402308464, Accuracy: 0.8752857142857143\n",
            "Step: 20, Epoch: 67, Loss: 0.018582291901111603, Accuracy: 0.8702857142857143\n",
            "Step: 20, Epoch: 68, Loss: 0.021364929154515266, Accuracy: 0.8735714285714286\n",
            "Step: 20, Epoch: 69, Loss: 0.022303655743598938, Accuracy: 0.869\n"
          ],
          "name": "stdout"
        },
        {
          "output_type": "stream",
          "text": [
            "/content/owr/icarl.py:173: UserWarning: To copy construct from a tensor, it is recommended to use sourceTensor.clone().detach() or sourceTensor.clone().detach().requires_grad_(True), rather than torch.tensor(sourceTensor).\n",
            "  image = torch.tensor(image).unsqueeze(0).float()\n"
          ],
          "name": "stderr"
        },
        {
          "output_type": "stream",
          "text": [
            "udpate representation:  803 reduce exemplars: 0 costruct exemplars: 29\n",
            "{'n_neighbors': 5}\n",
            "task: 20 train accuracy = 0.9078\n",
            "task: 20 test accuracy = 0.659\n",
            "30\n",
            "Step: 30, Epoch: 0, Loss: 0.05218854546546936, Accuracy: 0.26462196861626247\n",
            "Step: 30, Epoch: 1, Loss: 0.04596736282110214, Accuracy: 0.3630527817403709\n",
            "Step: 30, Epoch: 2, Loss: 0.04212731122970581, Accuracy: 0.42510699001426533\n",
            "Step: 30, Epoch: 3, Loss: 0.04563288390636444, Accuracy: 0.47218259629101283\n",
            "Step: 30, Epoch: 4, Loss: 0.04719185456633568, Accuracy: 0.5007132667617689\n",
            "Step: 30, Epoch: 5, Loss: 0.04235050082206726, Accuracy: 0.530527817403709\n",
            "Step: 30, Epoch: 6, Loss: 0.03933132067322731, Accuracy: 0.5452211126961484\n",
            "Step: 30, Epoch: 7, Loss: 0.04394487291574478, Accuracy: 0.5657631954350927\n",
            "Step: 30, Epoch: 8, Loss: 0.04234541580080986, Accuracy: 0.581169757489301\n",
            "Step: 30, Epoch: 9, Loss: 0.04079395905137062, Accuracy: 0.5957203994293866\n",
            "Step: 30, Epoch: 10, Loss: 0.03619350492954254, Accuracy: 0.6017118402282453\n",
            "Step: 30, Epoch: 11, Loss: 0.03790005296468735, Accuracy: 0.6145506419400856\n",
            "Step: 30, Epoch: 12, Loss: 0.039585310965776443, Accuracy: 0.6313837375178317\n",
            "Step: 30, Epoch: 13, Loss: 0.039781130850315094, Accuracy: 0.6335235378031384\n",
            "Step: 30, Epoch: 14, Loss: 0.04186740890145302, Accuracy: 0.6466476462196862\n",
            "Step: 30, Epoch: 15, Loss: 0.040011174976825714, Accuracy: 0.6587731811697575\n",
            "Step: 30, Epoch: 16, Loss: 0.04166804254055023, Accuracy: 0.6680456490727532\n",
            "Step: 30, Epoch: 17, Loss: 0.03752529248595238, Accuracy: 0.6750356633380884\n",
            "Step: 30, Epoch: 18, Loss: 0.03952416777610779, Accuracy: 0.6777460770328103\n",
            "Step: 30, Epoch: 19, Loss: 0.03947639465332031, Accuracy: 0.6853067047075606\n",
            "Step: 30, Epoch: 20, Loss: 0.037825118750333786, Accuracy: 0.6861626248216833\n",
            "Step: 30, Epoch: 21, Loss: 0.04030574858188629, Accuracy: 0.6991440798858773\n",
            "Step: 30, Epoch: 22, Loss: 0.03958231583237648, Accuracy: 0.7128388017118402\n",
            "Step: 30, Epoch: 23, Loss: 0.040295302867889404, Accuracy: 0.7051355206847361\n",
            "Step: 30, Epoch: 24, Loss: 0.03630243241786957, Accuracy: 0.715549215406562\n",
            "Step: 30, Epoch: 25, Loss: 0.03864226117730141, Accuracy: 0.7145506419400856\n",
            "Step: 30, Epoch: 26, Loss: 0.04020282253623009, Accuracy: 0.7253922967189729\n",
            "Step: 30, Epoch: 27, Loss: 0.03624167665839195, Accuracy: 0.7319543509272468\n",
            "Step: 30, Epoch: 28, Loss: 0.03878653421998024, Accuracy: 0.7276747503566334\n",
            "Step: 30, Epoch: 29, Loss: 0.038610707968473434, Accuracy: 0.7271041369472182\n",
            "Step: 30, Epoch: 30, Loss: 0.03688180819153786, Accuracy: 0.7487874465049928\n",
            "Step: 30, Epoch: 31, Loss: 0.03905608877539635, Accuracy: 0.7385164051355206\n",
            "Step: 30, Epoch: 32, Loss: 0.04102540761232376, Accuracy: 0.7410841654778887\n",
            "Step: 30, Epoch: 33, Loss: 0.040555838495492935, Accuracy: 0.7375178316690443\n",
            "Step: 30, Epoch: 34, Loss: 0.03733282536268234, Accuracy: 0.7504992867332382\n",
            "Step: 30, Epoch: 35, Loss: 0.038475051522254944, Accuracy: 0.7611982881597718\n",
            "Step: 30, Epoch: 36, Loss: 0.040253303945064545, Accuracy: 0.7706134094151212\n",
            "Step: 30, Epoch: 37, Loss: 0.039139632135629654, Accuracy: 0.750641940085592\n",
            "Step: 30, Epoch: 38, Loss: 0.03605012968182564, Accuracy: 0.7607703281027104\n",
            "Step: 30, Epoch: 39, Loss: 0.03846147656440735, Accuracy: 0.7660485021398002\n",
            "Step: 30, Epoch: 40, Loss: 0.03792230039834976, Accuracy: 0.7567760342368046\n",
            "Step: 30, Epoch: 41, Loss: 0.038738273084163666, Accuracy: 0.7704707560627675\n",
            "Step: 30, Epoch: 42, Loss: 0.03494471684098244, Accuracy: 0.7766048502139801\n",
            "Step: 30, Epoch: 43, Loss: 0.03904024884104729, Accuracy: 0.779885877318117\n",
            "Step: 30, Epoch: 44, Loss: 0.03275321051478386, Accuracy: 0.7777460770328103\n",
            "Step: 30, Epoch: 45, Loss: 0.03610040992498398, Accuracy: 0.7790299572039943\n",
            "Step: 30, Epoch: 46, Loss: 0.039328109472990036, Accuracy: 0.7888730385164051\n",
            "Step: 30, Epoch: 47, Loss: 0.039345014840364456, Accuracy: 0.7874465049928673\n",
            "Step: 30, Epoch: 48, Loss: 0.0369236022233963, Accuracy: 0.7780313837375178\n",
            "Step: 30, Epoch: 49, Loss: 0.03396742045879364, Accuracy: 0.8235378031383738\n",
            "Step: 30, Epoch: 50, Loss: 0.03335512802004814, Accuracy: 0.8400855920114123\n",
            "Step: 30, Epoch: 51, Loss: 0.03505493327975273, Accuracy: 0.8433666191155492\n",
            "Step: 30, Epoch: 52, Loss: 0.03273077309131622, Accuracy: 0.8559201141226819\n",
            "Step: 30, Epoch: 53, Loss: 0.0317019484937191, Accuracy: 0.8556348074179744\n",
            "Step: 30, Epoch: 54, Loss: 0.031134149059653282, Accuracy: 0.8629101283880172\n",
            "Step: 30, Epoch: 55, Loss: 0.03140043839812279, Accuracy: 0.8607703281027104\n",
            "Step: 30, Epoch: 56, Loss: 0.031502049416303635, Accuracy: 0.8654778887303851\n",
            "Step: 30, Epoch: 57, Loss: 0.033941611647605896, Accuracy: 0.8663338088445078\n",
            "Step: 30, Epoch: 58, Loss: 0.030743228271603584, Accuracy: 0.8683309557774608\n",
            "Step: 30, Epoch: 59, Loss: 0.03276807814836502, Accuracy: 0.8643366619115549\n",
            "Step: 30, Epoch: 60, Loss: 0.034272387623786926, Accuracy: 0.8718972895863053\n",
            "Step: 30, Epoch: 61, Loss: 0.030066557228565216, Accuracy: 0.8691868758915835\n",
            "Step: 30, Epoch: 62, Loss: 0.028425589203834534, Accuracy: 0.8757489300998573\n",
            "Step: 30, Epoch: 63, Loss: 0.029144149273633957, Accuracy: 0.8711840228245363\n",
            "Step: 30, Epoch: 64, Loss: 0.030758081004023552, Accuracy: 0.8813124108416548\n",
            "Step: 30, Epoch: 65, Loss: 0.031230077147483826, Accuracy: 0.8815977175463623\n",
            "Step: 30, Epoch: 66, Loss: 0.03247247263789177, Accuracy: 0.8783166904422254\n",
            "Step: 30, Epoch: 67, Loss: 0.03132040426135063, Accuracy: 0.8843081312410842\n",
            "Step: 30, Epoch: 68, Loss: 0.03230296075344086, Accuracy: 0.8805991440798859\n",
            "Step: 30, Epoch: 69, Loss: 0.028108134865760803, Accuracy: 0.8813124108416548\n"
          ],
          "name": "stdout"
        },
        {
          "output_type": "stream",
          "text": [
            "/content/owr/icarl.py:173: UserWarning: To copy construct from a tensor, it is recommended to use sourceTensor.clone().detach() or sourceTensor.clone().detach().requires_grad_(True), rather than torch.tensor(sourceTensor).\n",
            "  image = torch.tensor(image).unsqueeze(0).float()\n"
          ],
          "name": "stderr"
        },
        {
          "output_type": "stream",
          "text": [
            "udpate representation:  904 reduce exemplars: 0 costruct exemplars: 29\n",
            "{'n_neighbors': 1}\n",
            "task: 30 train accuracy = 0.9486\n",
            "task: 30 test accuracy = 0.60325\n",
            "40\n",
            "Step: 40, Epoch: 0, Loss: 0.06160735338926315, Accuracy: 0.26171428571428573\n",
            "Step: 40, Epoch: 1, Loss: 0.05303862690925598, Accuracy: 0.3605714285714286\n",
            "Step: 40, Epoch: 2, Loss: 0.05555146560072899, Accuracy: 0.41814285714285715\n",
            "Step: 40, Epoch: 3, Loss: 0.054638173431158066, Accuracy: 0.45042857142857146\n",
            "Step: 40, Epoch: 4, Loss: 0.05610162392258644, Accuracy: 0.4784285714285714\n",
            "Step: 40, Epoch: 5, Loss: 0.051439229398965836, Accuracy: 0.501\n",
            "Step: 40, Epoch: 6, Loss: 0.05165413022041321, Accuracy: 0.5214285714285715\n",
            "Step: 40, Epoch: 7, Loss: 0.05587262287735939, Accuracy: 0.5357142857142857\n",
            "Step: 40, Epoch: 8, Loss: 0.05361587554216385, Accuracy: 0.5597142857142857\n",
            "Step: 40, Epoch: 9, Loss: 0.055697131901979446, Accuracy: 0.5754285714285714\n",
            "Step: 40, Epoch: 10, Loss: 0.055236294865608215, Accuracy: 0.5801428571428572\n",
            "Step: 40, Epoch: 11, Loss: 0.05297577753663063, Accuracy: 0.6058571428571429\n",
            "Step: 40, Epoch: 12, Loss: 0.05160721391439438, Accuracy: 0.6101428571428571\n",
            "Step: 40, Epoch: 13, Loss: 0.05181090161204338, Accuracy: 0.617\n",
            "Step: 40, Epoch: 14, Loss: 0.0513903871178627, Accuracy: 0.6255714285714286\n",
            "Step: 40, Epoch: 15, Loss: 0.05164772644639015, Accuracy: 0.6404285714285715\n",
            "Step: 40, Epoch: 16, Loss: 0.047914061695337296, Accuracy: 0.6508571428571429\n",
            "Step: 40, Epoch: 17, Loss: 0.04841510206460953, Accuracy: 0.6564285714285715\n",
            "Step: 40, Epoch: 18, Loss: 0.04911889508366585, Accuracy: 0.6665714285714286\n",
            "Step: 40, Epoch: 19, Loss: 0.05218550190329552, Accuracy: 0.6677142857142857\n",
            "Step: 40, Epoch: 20, Loss: 0.05112399160861969, Accuracy: 0.6751428571428572\n",
            "Step: 40, Epoch: 21, Loss: 0.04886941984295845, Accuracy: 0.6827142857142857\n",
            "Step: 40, Epoch: 22, Loss: 0.051977016031742096, Accuracy: 0.685\n",
            "Step: 40, Epoch: 23, Loss: 0.05152758210897446, Accuracy: 0.6952857142857143\n",
            "Step: 40, Epoch: 24, Loss: 0.054196204990148544, Accuracy: 0.6928571428571428\n",
            "Step: 40, Epoch: 25, Loss: 0.04889872670173645, Accuracy: 0.7015714285714286\n",
            "Step: 40, Epoch: 26, Loss: 0.05172541365027428, Accuracy: 0.711\n",
            "Step: 40, Epoch: 27, Loss: 0.05116737633943558, Accuracy: 0.7178571428571429\n",
            "Step: 40, Epoch: 28, Loss: 0.05303389951586723, Accuracy: 0.7158571428571429\n",
            "Step: 40, Epoch: 29, Loss: 0.051903076469898224, Accuracy: 0.7167142857142857\n",
            "Step: 40, Epoch: 30, Loss: 0.047680873423814774, Accuracy: 0.7287142857142858\n",
            "Step: 40, Epoch: 31, Loss: 0.05253380164504051, Accuracy: 0.7291428571428571\n",
            "Step: 40, Epoch: 32, Loss: 0.048248741775751114, Accuracy: 0.7322857142857143\n",
            "Step: 40, Epoch: 33, Loss: 0.050896767526865005, Accuracy: 0.723\n",
            "Step: 40, Epoch: 34, Loss: 0.053203798830509186, Accuracy: 0.7414285714285714\n",
            "Step: 40, Epoch: 35, Loss: 0.052185241132974625, Accuracy: 0.7365714285714285\n",
            "Step: 40, Epoch: 36, Loss: 0.052232775837183, Accuracy: 0.7444285714285714\n",
            "Step: 40, Epoch: 37, Loss: 0.04994414746761322, Accuracy: 0.7455714285714286\n",
            "Step: 40, Epoch: 38, Loss: 0.052453212440013885, Accuracy: 0.7448571428571429\n",
            "Step: 40, Epoch: 39, Loss: 0.04630088061094284, Accuracy: 0.7525714285714286\n",
            "Step: 40, Epoch: 40, Loss: 0.052414678037166595, Accuracy: 0.753\n",
            "Step: 40, Epoch: 41, Loss: 0.048684749752283096, Accuracy: 0.764\n",
            "Step: 40, Epoch: 42, Loss: 0.0510699525475502, Accuracy: 0.7607142857142857\n",
            "Step: 40, Epoch: 43, Loss: 0.050058040767908096, Accuracy: 0.7522857142857143\n",
            "Step: 40, Epoch: 44, Loss: 0.04787734895944595, Accuracy: 0.7695714285714286\n",
            "Step: 40, Epoch: 45, Loss: 0.05134577676653862, Accuracy: 0.7725714285714286\n",
            "Step: 40, Epoch: 46, Loss: 0.04734482616186142, Accuracy: 0.7732857142857142\n",
            "Step: 40, Epoch: 47, Loss: 0.05511320382356644, Accuracy: 0.7692857142857142\n",
            "Step: 40, Epoch: 48, Loss: 0.050833843648433685, Accuracy: 0.7681428571428571\n",
            "Step: 40, Epoch: 49, Loss: 0.04779478535056114, Accuracy: 0.8137142857142857\n",
            "Step: 40, Epoch: 50, Loss: 0.044729046523571014, Accuracy: 0.8365714285714285\n",
            "Step: 40, Epoch: 51, Loss: 0.04361193627119064, Accuracy: 0.8405714285714285\n",
            "Step: 40, Epoch: 52, Loss: 0.04399031400680542, Accuracy: 0.8492857142857143\n",
            "Step: 40, Epoch: 53, Loss: 0.045063722878694534, Accuracy: 0.8427142857142857\n",
            "Step: 40, Epoch: 54, Loss: 0.04679015278816223, Accuracy: 0.8535714285714285\n",
            "Step: 40, Epoch: 55, Loss: 0.04458889365196228, Accuracy: 0.8554285714285714\n",
            "Step: 40, Epoch: 56, Loss: 0.04110860452055931, Accuracy: 0.8517142857142858\n",
            "Step: 40, Epoch: 57, Loss: 0.04422518610954285, Accuracy: 0.8557142857142858\n",
            "Step: 40, Epoch: 58, Loss: 0.04487423971295357, Accuracy: 0.862\n",
            "Step: 40, Epoch: 59, Loss: 0.042560555040836334, Accuracy: 0.8662857142857143\n",
            "Step: 40, Epoch: 60, Loss: 0.04664640873670578, Accuracy: 0.8637142857142858\n",
            "Step: 40, Epoch: 61, Loss: 0.04523481801152229, Accuracy: 0.859\n",
            "Step: 40, Epoch: 62, Loss: 0.0425119511783123, Accuracy: 0.8632857142857143\n",
            "Step: 40, Epoch: 63, Loss: 0.044354937970638275, Accuracy: 0.8625714285714285\n",
            "Step: 40, Epoch: 64, Loss: 0.04409286752343178, Accuracy: 0.8681428571428571\n",
            "Step: 40, Epoch: 65, Loss: 0.04209451749920845, Accuracy: 0.8665714285714285\n",
            "Step: 40, Epoch: 66, Loss: 0.044583339244127274, Accuracy: 0.8732857142857143\n",
            "Step: 40, Epoch: 67, Loss: 0.043954018503427505, Accuracy: 0.8701428571428571\n",
            "Step: 40, Epoch: 68, Loss: 0.0417209267616272, Accuracy: 0.8681428571428571\n",
            "Step: 40, Epoch: 69, Loss: 0.04711664840579033, Accuracy: 0.8714285714285714\n"
          ],
          "name": "stdout"
        },
        {
          "output_type": "stream",
          "text": [
            "/content/owr/icarl.py:173: UserWarning: To copy construct from a tensor, it is recommended to use sourceTensor.clone().detach() or sourceTensor.clone().detach().requires_grad_(True), rather than torch.tensor(sourceTensor).\n",
            "  image = torch.tensor(image).unsqueeze(0).float()\n"
          ],
          "name": "stderr"
        },
        {
          "output_type": "stream",
          "text": [
            "udpate representation:  1003 reduce exemplars: 0 costruct exemplars: 28\n",
            "{'n_neighbors': 3}\n",
            "task: 40 train accuracy = 0.9238\n",
            "task: 40 test accuracy = 0.5602\n",
            "50\n",
            "Step: 50, Epoch: 0, Loss: 0.06759718805551529, Accuracy: 0.26157142857142857\n",
            "Step: 50, Epoch: 1, Loss: 0.07434815913438797, Accuracy: 0.3485714285714286\n",
            "Step: 50, Epoch: 2, Loss: 0.06467796862125397, Accuracy: 0.4064285714285714\n",
            "Step: 50, Epoch: 3, Loss: 0.06771320849657059, Accuracy: 0.455\n",
            "Step: 50, Epoch: 4, Loss: 0.07008006423711777, Accuracy: 0.48428571428571426\n",
            "Step: 50, Epoch: 5, Loss: 0.06078577786684036, Accuracy: 0.509\n",
            "Step: 50, Epoch: 6, Loss: 0.062276605516672134, Accuracy: 0.5385714285714286\n",
            "Step: 50, Epoch: 7, Loss: 0.06572281569242477, Accuracy: 0.5482857142857143\n",
            "Step: 50, Epoch: 8, Loss: 0.06272268295288086, Accuracy: 0.5684285714285714\n",
            "Step: 50, Epoch: 9, Loss: 0.06666412949562073, Accuracy: 0.5848571428571429\n",
            "Step: 50, Epoch: 10, Loss: 0.06286884099245071, Accuracy: 0.6025714285714285\n",
            "Step: 50, Epoch: 11, Loss: 0.06380955129861832, Accuracy: 0.6074285714285714\n",
            "Step: 50, Epoch: 12, Loss: 0.06384341418743134, Accuracy: 0.613\n",
            "Step: 50, Epoch: 13, Loss: 0.05983098968863487, Accuracy: 0.6308571428571429\n",
            "Step: 50, Epoch: 14, Loss: 0.06361507624387741, Accuracy: 0.6428571428571429\n",
            "Step: 50, Epoch: 15, Loss: 0.060491278767585754, Accuracy: 0.6575714285714286\n",
            "Step: 50, Epoch: 16, Loss: 0.06128945201635361, Accuracy: 0.6561428571428571\n",
            "Step: 50, Epoch: 17, Loss: 0.06282692402601242, Accuracy: 0.6535714285714286\n",
            "Step: 50, Epoch: 18, Loss: 0.061207301914691925, Accuracy: 0.675\n",
            "Step: 50, Epoch: 19, Loss: 0.06115861237049103, Accuracy: 0.6734285714285714\n",
            "Step: 50, Epoch: 20, Loss: 0.061549898236989975, Accuracy: 0.6777142857142857\n",
            "Step: 50, Epoch: 21, Loss: 0.06175075098872185, Accuracy: 0.6892857142857143\n",
            "Step: 50, Epoch: 22, Loss: 0.05856562405824661, Accuracy: 0.6907142857142857\n",
            "Step: 50, Epoch: 23, Loss: 0.0630195140838623, Accuracy: 0.7035714285714286\n",
            "Step: 50, Epoch: 24, Loss: 0.06393124908208847, Accuracy: 0.7007142857142857\n",
            "Step: 50, Epoch: 25, Loss: 0.06077711656689644, Accuracy: 0.7047142857142857\n",
            "Step: 50, Epoch: 26, Loss: 0.05776851996779442, Accuracy: 0.7137142857142857\n",
            "Step: 50, Epoch: 27, Loss: 0.06017792597413063, Accuracy: 0.7142857142857143\n",
            "Step: 50, Epoch: 28, Loss: 0.05790537968277931, Accuracy: 0.7182857142857143\n",
            "Step: 50, Epoch: 29, Loss: 0.06152766942977905, Accuracy: 0.7271428571428571\n",
            "Step: 50, Epoch: 30, Loss: 0.06366787850856781, Accuracy: 0.7234285714285714\n",
            "Step: 50, Epoch: 31, Loss: 0.06324610114097595, Accuracy: 0.73\n",
            "Step: 50, Epoch: 32, Loss: 0.05974678695201874, Accuracy: 0.7362857142857143\n",
            "Step: 50, Epoch: 33, Loss: 0.06319964677095413, Accuracy: 0.7444285714285714\n",
            "Step: 50, Epoch: 34, Loss: 0.0618104413151741, Accuracy: 0.7425714285714285\n",
            "Step: 50, Epoch: 35, Loss: 0.06045570969581604, Accuracy: 0.7471428571428571\n",
            "Step: 50, Epoch: 36, Loss: 0.061278339475393295, Accuracy: 0.745\n",
            "Step: 50, Epoch: 37, Loss: 0.057373061776161194, Accuracy: 0.7561428571428571\n",
            "Step: 50, Epoch: 38, Loss: 0.05646250396966934, Accuracy: 0.7515714285714286\n",
            "Step: 50, Epoch: 39, Loss: 0.06264110654592514, Accuracy: 0.7495714285714286\n",
            "Step: 50, Epoch: 40, Loss: 0.05731755495071411, Accuracy: 0.7558571428571429\n",
            "Step: 50, Epoch: 41, Loss: 0.05806272104382515, Accuracy: 0.754\n",
            "Step: 50, Epoch: 42, Loss: 0.05763595923781395, Accuracy: 0.7625714285714286\n",
            "Step: 50, Epoch: 43, Loss: 0.05771397054195404, Accuracy: 0.7655714285714286\n",
            "Step: 50, Epoch: 44, Loss: 0.05661465600132942, Accuracy: 0.7664285714285715\n",
            "Step: 50, Epoch: 45, Loss: 0.06104080751538277, Accuracy: 0.7668571428571429\n",
            "Step: 50, Epoch: 46, Loss: 0.061141788959503174, Accuracy: 0.7502857142857143\n",
            "Step: 50, Epoch: 47, Loss: 0.05857040360569954, Accuracy: 0.7734285714285715\n",
            "Step: 50, Epoch: 48, Loss: 0.06139734387397766, Accuracy: 0.772\n",
            "Step: 50, Epoch: 49, Loss: 0.05361856520175934, Accuracy: 0.8187142857142857\n",
            "Step: 50, Epoch: 50, Loss: 0.05342794954776764, Accuracy: 0.8438571428571429\n",
            "Step: 50, Epoch: 51, Loss: 0.05522472783923149, Accuracy: 0.8415714285714285\n",
            "Step: 50, Epoch: 52, Loss: 0.05169059336185455, Accuracy: 0.8427142857142857\n",
            "Step: 50, Epoch: 53, Loss: 0.05551503226161003, Accuracy: 0.8485714285714285\n",
            "Step: 50, Epoch: 54, Loss: 0.05543263629078865, Accuracy: 0.8501428571428571\n",
            "Step: 50, Epoch: 55, Loss: 0.05507492274045944, Accuracy: 0.856\n",
            "Step: 50, Epoch: 56, Loss: 0.05175856873393059, Accuracy: 0.8464285714285714\n",
            "Step: 50, Epoch: 57, Loss: 0.05481051281094551, Accuracy: 0.8554285714285714\n",
            "Step: 50, Epoch: 58, Loss: 0.05249359458684921, Accuracy: 0.854\n",
            "Step: 50, Epoch: 59, Loss: 0.05244957655668259, Accuracy: 0.8565714285714285\n",
            "Step: 50, Epoch: 60, Loss: 0.05350133031606674, Accuracy: 0.8532857142857143\n",
            "Step: 50, Epoch: 61, Loss: 0.053553272038698196, Accuracy: 0.8514285714285714\n",
            "Step: 50, Epoch: 62, Loss: 0.05522240325808525, Accuracy: 0.8632857142857143\n",
            "Step: 50, Epoch: 63, Loss: 0.05463889613747597, Accuracy: 0.8624285714285714\n",
            "Step: 50, Epoch: 64, Loss: 0.05455392971634865, Accuracy: 0.8628571428571429\n",
            "Step: 50, Epoch: 65, Loss: 0.051786381751298904, Accuracy: 0.8658571428571429\n",
            "Step: 50, Epoch: 66, Loss: 0.05349847301840782, Accuracy: 0.8664285714285714\n",
            "Step: 50, Epoch: 67, Loss: 0.05524829402565956, Accuracy: 0.8667142857142857\n",
            "Step: 50, Epoch: 68, Loss: 0.05770917981863022, Accuracy: 0.8617142857142858\n",
            "Step: 50, Epoch: 69, Loss: 0.0538424476981163, Accuracy: 0.872\n"
          ],
          "name": "stdout"
        },
        {
          "output_type": "stream",
          "text": [
            "/content/owr/icarl.py:173: UserWarning: To copy construct from a tensor, it is recommended to use sourceTensor.clone().detach() or sourceTensor.clone().detach().requires_grad_(True), rather than torch.tensor(sourceTensor).\n",
            "  image = torch.tensor(image).unsqueeze(0).float()\n"
          ],
          "name": "stderr"
        },
        {
          "output_type": "stream",
          "text": [
            "udpate representation:  1101 reduce exemplars: 0 costruct exemplars: 28\n",
            "{'n_neighbors': 3}\n",
            "task: 50 train accuracy = 0.9354\n",
            "task: 50 test accuracy = 0.5295\n",
            "60\n",
            "Step: 60, Epoch: 0, Loss: 0.07569920271635056, Accuracy: 0.2353868194842407\n",
            "Step: 60, Epoch: 1, Loss: 0.07839856296777725, Accuracy: 0.30401146131805157\n",
            "Step: 60, Epoch: 2, Loss: 0.08278987556695938, Accuracy: 0.3683381088825215\n",
            "Step: 60, Epoch: 3, Loss: 0.08187934011220932, Accuracy: 0.40673352435530086\n",
            "Step: 60, Epoch: 4, Loss: 0.07417315244674683, Accuracy: 0.4444126074498567\n",
            "Step: 60, Epoch: 5, Loss: 0.0708957239985466, Accuracy: 0.4863896848137536\n",
            "Step: 60, Epoch: 6, Loss: 0.07543853670358658, Accuracy: 0.49727793696275074\n",
            "Step: 60, Epoch: 7, Loss: 0.07622351497411728, Accuracy: 0.5194842406876791\n",
            "Step: 60, Epoch: 8, Loss: 0.07200334966182709, Accuracy: 0.5376790830945559\n",
            "Step: 60, Epoch: 9, Loss: 0.07688701897859573, Accuracy: 0.5588825214899713\n",
            "Step: 60, Epoch: 10, Loss: 0.07905955612659454, Accuracy: 0.5797994269340975\n",
            "Step: 60, Epoch: 11, Loss: 0.07065588980913162, Accuracy: 0.5858166189111748\n",
            "Step: 60, Epoch: 12, Loss: 0.07233401387929916, Accuracy: 0.5955587392550143\n",
            "Step: 60, Epoch: 13, Loss: 0.07726698368787766, Accuracy: 0.6085959885386819\n",
            "Step: 60, Epoch: 14, Loss: 0.07014258950948715, Accuracy: 0.6160458452722063\n",
            "Step: 60, Epoch: 15, Loss: 0.07273861020803452, Accuracy: 0.6358166189111748\n",
            "Step: 60, Epoch: 16, Loss: 0.07446508854627609, Accuracy: 0.6376790830945559\n",
            "Step: 60, Epoch: 17, Loss: 0.07689031213521957, Accuracy: 0.6458452722063037\n",
            "Step: 60, Epoch: 18, Loss: 0.07680845260620117, Accuracy: 0.652865329512894\n",
            "Step: 60, Epoch: 19, Loss: 0.07164351642131805, Accuracy: 0.6621776504297995\n",
            "Step: 60, Epoch: 20, Loss: 0.07473164796829224, Accuracy: 0.6767908309455587\n",
            "Step: 60, Epoch: 21, Loss: 0.08031829446554184, Accuracy: 0.6772206303724928\n",
            "Step: 60, Epoch: 22, Loss: 0.07648575305938721, Accuracy: 0.6826647564469914\n",
            "Step: 60, Epoch: 23, Loss: 0.07673483341932297, Accuracy: 0.6865329512893983\n",
            "Step: 60, Epoch: 24, Loss: 0.07551813125610352, Accuracy: 0.6743553008595988\n",
            "Step: 60, Epoch: 25, Loss: 0.07351183891296387, Accuracy: 0.6974212034383954\n",
            "Step: 60, Epoch: 26, Loss: 0.07344914972782135, Accuracy: 0.7024355300859599\n",
            "Step: 60, Epoch: 27, Loss: 0.0762634426355362, Accuracy: 0.704727793696275\n",
            "Step: 60, Epoch: 28, Loss: 0.07134397327899933, Accuracy: 0.7136103151862464\n",
            "Step: 60, Epoch: 29, Loss: 0.06872839480638504, Accuracy: 0.7012893982808023\n",
            "Step: 60, Epoch: 30, Loss: 0.06804423779249191, Accuracy: 0.7183381088825215\n",
            "Step: 60, Epoch: 31, Loss: 0.07612545043230057, Accuracy: 0.7146131805157593\n",
            "Step: 60, Epoch: 32, Loss: 0.07102685421705246, Accuracy: 0.7273638968481375\n",
            "Step: 60, Epoch: 33, Loss: 0.07259321212768555, Accuracy: 0.7177650429799427\n",
            "Step: 60, Epoch: 34, Loss: 0.0739898532629013, Accuracy: 0.7365329512893983\n",
            "Step: 60, Epoch: 35, Loss: 0.07086140662431717, Accuracy: 0.7305157593123209\n",
            "Step: 60, Epoch: 36, Loss: 0.07002396881580353, Accuracy: 0.7330945558739255\n",
            "Step: 60, Epoch: 37, Loss: 0.07249776273965836, Accuracy: 0.7404011461318052\n",
            "Step: 60, Epoch: 38, Loss: 0.0737491250038147, Accuracy: 0.7356733524355301\n",
            "Step: 60, Epoch: 39, Loss: 0.07025919109582901, Accuracy: 0.7333810888252149\n",
            "Step: 60, Epoch: 40, Loss: 0.06956765055656433, Accuracy: 0.745702005730659\n",
            "Step: 60, Epoch: 41, Loss: 0.0692954882979393, Accuracy: 0.751432664756447\n",
            "Step: 60, Epoch: 42, Loss: 0.06659112125635147, Accuracy: 0.7517191977077364\n",
            "Step: 60, Epoch: 43, Loss: 0.07224931567907333, Accuracy: 0.7591690544412607\n",
            "Step: 60, Epoch: 44, Loss: 0.06710247695446014, Accuracy: 0.7478510028653295\n",
            "Step: 60, Epoch: 45, Loss: 0.06823818385601044, Accuracy: 0.7588825214899714\n",
            "Step: 60, Epoch: 46, Loss: 0.07581241428852081, Accuracy: 0.7593123209169055\n",
            "Step: 60, Epoch: 47, Loss: 0.06893978267908096, Accuracy: 0.7510028653295129\n",
            "Step: 60, Epoch: 48, Loss: 0.0715121403336525, Accuracy: 0.7554441260744985\n",
            "Step: 60, Epoch: 49, Loss: 0.06490692496299744, Accuracy: 0.8001432664756447\n",
            "Step: 60, Epoch: 50, Loss: 0.0667940303683281, Accuracy: 0.8306590257879656\n",
            "Step: 60, Epoch: 51, Loss: 0.06949463486671448, Accuracy: 0.8299426934097421\n",
            "Step: 60, Epoch: 52, Loss: 0.06394214928150177, Accuracy: 0.8359598853868195\n",
            "Step: 60, Epoch: 53, Loss: 0.06388925760984421, Accuracy: 0.8382521489971346\n",
            "Step: 60, Epoch: 54, Loss: 0.06425254046916962, Accuracy: 0.8404011461318052\n",
            "Step: 60, Epoch: 55, Loss: 0.06270647794008255, Accuracy: 0.8383954154727794\n",
            "Step: 60, Epoch: 56, Loss: 0.06705161929130554, Accuracy: 0.8383954154727794\n",
            "Step: 60, Epoch: 57, Loss: 0.06253407895565033, Accuracy: 0.842836676217765\n",
            "Step: 60, Epoch: 58, Loss: 0.06740009039640427, Accuracy: 0.8511461318051576\n",
            "Step: 60, Epoch: 59, Loss: 0.06408783793449402, Accuracy: 0.8465616045845272\n",
            "Step: 60, Epoch: 60, Loss: 0.06402935087680817, Accuracy: 0.847134670487106\n",
            "Step: 60, Epoch: 61, Loss: 0.06696046143770218, Accuracy: 0.8524355300859598\n",
            "Step: 60, Epoch: 62, Loss: 0.06370536237955093, Accuracy: 0.8475644699140401\n",
            "Step: 60, Epoch: 63, Loss: 0.060805898159742355, Accuracy: 0.8487106017191977\n",
            "Step: 60, Epoch: 64, Loss: 0.06902072578668594, Accuracy: 0.8580229226361031\n",
            "Step: 60, Epoch: 65, Loss: 0.06085997447371483, Accuracy: 0.8558739255014327\n",
            "Step: 60, Epoch: 66, Loss: 0.060847677290439606, Accuracy: 0.8614613180515759\n",
            "Step: 60, Epoch: 67, Loss: 0.06347683072090149, Accuracy: 0.8587392550143267\n",
            "Step: 60, Epoch: 68, Loss: 0.06378627568483353, Accuracy: 0.8553008595988538\n",
            "Step: 60, Epoch: 69, Loss: 0.06756778806447983, Accuracy: 0.8558739255014327\n"
          ],
          "name": "stdout"
        },
        {
          "output_type": "stream",
          "text": [
            "/content/owr/icarl.py:173: UserWarning: To copy construct from a tensor, it is recommended to use sourceTensor.clone().detach() or sourceTensor.clone().detach().requires_grad_(True), rather than torch.tensor(sourceTensor).\n",
            "  image = torch.tensor(image).unsqueeze(0).float()\n"
          ],
          "name": "stderr"
        },
        {
          "output_type": "stream",
          "text": [
            "udpate representation:  1198 reduce exemplars: 0 costruct exemplars: 28\n",
            "{'n_neighbors': 5}\n",
            "task: 60 train accuracy = 0.932\n",
            "task: 60 test accuracy = 0.4828571428571429\n",
            "70\n",
            "Step: 70, Epoch: 0, Loss: 0.09155017137527466, Accuracy: 0.2534850640113798\n",
            "Step: 70, Epoch: 1, Loss: 0.0933903381228447, Accuracy: 0.34324324324324323\n",
            "Step: 70, Epoch: 2, Loss: 0.08960428833961487, Accuracy: 0.3937411095305832\n",
            "Step: 70, Epoch: 3, Loss: 0.0857904851436615, Accuracy: 0.4238975817923186\n",
            "Step: 70, Epoch: 4, Loss: 0.08703411370515823, Accuracy: 0.45917496443812233\n",
            "Step: 70, Epoch: 5, Loss: 0.08304375410079956, Accuracy: 0.4859174964438122\n",
            "Step: 70, Epoch: 6, Loss: 0.0867798924446106, Accuracy: 0.5005689900426743\n",
            "Step: 70, Epoch: 7, Loss: 0.0870167687535286, Accuracy: 0.5203413940256045\n",
            "Step: 70, Epoch: 8, Loss: 0.0881156474351883, Accuracy: 0.5406827880512091\n",
            "Step: 70, Epoch: 9, Loss: 0.08521584421396255, Accuracy: 0.54950213371266\n",
            "Step: 70, Epoch: 10, Loss: 0.08449854701757431, Accuracy: 0.5591749644381223\n",
            "Step: 70, Epoch: 11, Loss: 0.0869535356760025, Accuracy: 0.5768136557610242\n",
            "Step: 70, Epoch: 12, Loss: 0.08328588306903839, Accuracy: 0.5846372688477952\n",
            "Step: 70, Epoch: 13, Loss: 0.08403521776199341, Accuracy: 0.5985775248933144\n",
            "Step: 70, Epoch: 14, Loss: 0.08604844659566879, Accuracy: 0.6116642958748222\n",
            "Step: 70, Epoch: 15, Loss: 0.08385072648525238, Accuracy: 0.6254623044096729\n",
            "Step: 70, Epoch: 16, Loss: 0.08409726619720459, Accuracy: 0.6327169274537695\n",
            "Step: 70, Epoch: 17, Loss: 0.08131035417318344, Accuracy: 0.6382645803698436\n",
            "Step: 70, Epoch: 18, Loss: 0.08192360401153564, Accuracy: 0.65149359886202\n",
            "Step: 70, Epoch: 19, Loss: 0.08533114194869995, Accuracy: 0.6590327169274538\n",
            "Step: 70, Epoch: 20, Loss: 0.0887397825717926, Accuracy: 0.655049786628734\n",
            "Step: 70, Epoch: 21, Loss: 0.08576708287000656, Accuracy: 0.659601706970128\n",
            "Step: 70, Epoch: 22, Loss: 0.08567874133586884, Accuracy: 0.6647226173541964\n",
            "Step: 70, Epoch: 23, Loss: 0.08324572443962097, Accuracy: 0.6832147937411095\n",
            "Step: 70, Epoch: 24, Loss: 0.08795001357793808, Accuracy: 0.6816500711237553\n",
            "Step: 70, Epoch: 25, Loss: 0.08362207561731339, Accuracy: 0.6904694167852062\n",
            "Step: 70, Epoch: 26, Loss: 0.08563341945409775, Accuracy: 0.6854907539118066\n",
            "Step: 70, Epoch: 27, Loss: 0.08473002165555954, Accuracy: 0.6945945945945946\n",
            "Step: 70, Epoch: 28, Loss: 0.0839923694729805, Accuracy: 0.7005689900426743\n",
            "Step: 70, Epoch: 29, Loss: 0.08468621969223022, Accuracy: 0.6981507823613087\n",
            "Step: 70, Epoch: 30, Loss: 0.08447415381669998, Accuracy: 0.7041251778093883\n",
            "Step: 70, Epoch: 31, Loss: 0.08393479883670807, Accuracy: 0.7034139402560455\n",
            "Step: 70, Epoch: 32, Loss: 0.08165109902620316, Accuracy: 0.7102418207681366\n",
            "Step: 70, Epoch: 33, Loss: 0.08343151211738586, Accuracy: 0.7199146514935989\n",
            "Step: 70, Epoch: 34, Loss: 0.083048976957798, Accuracy: 0.719203413940256\n",
            "Step: 70, Epoch: 35, Loss: 0.0854082778096199, Accuracy: 0.7196301564722617\n",
            "Step: 70, Epoch: 36, Loss: 0.0847482681274414, Accuracy: 0.727027027027027\n",
            "Step: 70, Epoch: 37, Loss: 0.08105465024709702, Accuracy: 0.7331436699857753\n",
            "Step: 70, Epoch: 38, Loss: 0.08348722755908966, Accuracy: 0.7248933143669986\n",
            "Step: 70, Epoch: 39, Loss: 0.08558207750320435, Accuracy: 0.7243243243243244\n",
            "Step: 70, Epoch: 40, Loss: 0.08542996644973755, Accuracy: 0.732574679943101\n",
            "Step: 70, Epoch: 41, Loss: 0.08142969012260437, Accuracy: 0.7477951635846373\n",
            "Step: 70, Epoch: 42, Loss: 0.08618484437465668, Accuracy: 0.7375533428165008\n",
            "Step: 70, Epoch: 43, Loss: 0.08206331729888916, Accuracy: 0.748221906116643\n",
            "Step: 70, Epoch: 44, Loss: 0.08228100091218948, Accuracy: 0.7453769559032717\n",
            "Step: 70, Epoch: 45, Loss: 0.08180778473615646, Accuracy: 0.7463726884779517\n",
            "Step: 70, Epoch: 46, Loss: 0.07872818410396576, Accuracy: 0.7519203413940256\n",
            "Step: 70, Epoch: 47, Loss: 0.08177969604730606, Accuracy: 0.7395448079658606\n",
            "Step: 70, Epoch: 48, Loss: 0.08166388422250748, Accuracy: 0.7477951635846373\n",
            "Step: 70, Epoch: 49, Loss: 0.07722195237874985, Accuracy: 0.7984352773826459\n",
            "Step: 70, Epoch: 50, Loss: 0.07501156628131866, Accuracy: 0.8176386913229019\n",
            "Step: 70, Epoch: 51, Loss: 0.07908965647220612, Accuracy: 0.8241820768136557\n",
            "Step: 70, Epoch: 52, Loss: 0.07557498663663864, Accuracy: 0.82475106685633\n",
            "Step: 70, Epoch: 53, Loss: 0.07260129600763321, Accuracy: 0.8327169274537696\n",
            "Step: 70, Epoch: 54, Loss: 0.0772150307893753, Accuracy: 0.8308677098150782\n",
            "Step: 70, Epoch: 55, Loss: 0.07512550801038742, Accuracy: 0.8310099573257468\n",
            "Step: 70, Epoch: 56, Loss: 0.07581416517496109, Accuracy: 0.8285917496443812\n",
            "Step: 70, Epoch: 57, Loss: 0.07462680339813232, Accuracy: 0.8337126600284495\n",
            "Step: 70, Epoch: 58, Loss: 0.07364755868911743, Accuracy: 0.8342816500711238\n",
            "Step: 70, Epoch: 59, Loss: 0.07231082022190094, Accuracy: 0.8368421052631579\n",
            "Step: 70, Epoch: 60, Loss: 0.07591947168111801, Accuracy: 0.8379800853485064\n",
            "Step: 70, Epoch: 61, Loss: 0.07548081129789352, Accuracy: 0.8406827880512091\n",
            "Step: 70, Epoch: 62, Loss: 0.07285047322511673, Accuracy: 0.8372688477951636\n",
            "Step: 70, Epoch: 63, Loss: 0.07506749778985977, Accuracy: 0.8453769559032717\n",
            "Step: 70, Epoch: 64, Loss: 0.07372123003005981, Accuracy: 0.8431009957325747\n",
            "Step: 70, Epoch: 65, Loss: 0.07412470132112503, Accuracy: 0.844950213371266\n",
            "Step: 70, Epoch: 66, Loss: 0.08093642443418503, Accuracy: 0.8460881934566145\n",
            "Step: 70, Epoch: 67, Loss: 0.07554512470960617, Accuracy: 0.851778093883357\n",
            "Step: 70, Epoch: 68, Loss: 0.07633554935455322, Accuracy: 0.8455192034139403\n",
            "Step: 70, Epoch: 69, Loss: 0.07913348078727722, Accuracy: 0.8477951635846372\n"
          ],
          "name": "stdout"
        },
        {
          "output_type": "stream",
          "text": [
            "/content/owr/icarl.py:173: UserWarning: To copy construct from a tensor, it is recommended to use sourceTensor.clone().detach() or sourceTensor.clone().detach().requires_grad_(True), rather than torch.tensor(sourceTensor).\n",
            "  image = torch.tensor(image).unsqueeze(0).float()\n"
          ],
          "name": "stderr"
        },
        {
          "output_type": "stream",
          "text": [
            "udpate representation:  1305 reduce exemplars: 0 costruct exemplars: 29\n",
            "{'n_neighbors': 5}\n",
            "task: 70 train accuracy = 0.925\n",
            "task: 70 test accuracy = 0.446875\n",
            "80\n",
            "Step: 80, Epoch: 0, Loss: 0.09860504418611526, Accuracy: 0.26385714285714285\n",
            "Step: 80, Epoch: 1, Loss: 0.09693257510662079, Accuracy: 0.38442857142857145\n",
            "Step: 80, Epoch: 2, Loss: 0.09133735299110413, Accuracy: 0.4317142857142857\n",
            "Step: 80, Epoch: 3, Loss: 0.10223349928855896, Accuracy: 0.46885714285714286\n",
            "Step: 80, Epoch: 4, Loss: 0.09665986895561218, Accuracy: 0.5022857142857143\n",
            "Step: 80, Epoch: 5, Loss: 0.09230123460292816, Accuracy: 0.5218571428571429\n",
            "Step: 80, Epoch: 6, Loss: 0.0853397473692894, Accuracy: 0.5347142857142857\n",
            "Step: 80, Epoch: 7, Loss: 0.09462855756282806, Accuracy: 0.5471428571428572\n",
            "Step: 80, Epoch: 8, Loss: 0.08944297581911087, Accuracy: 0.5604285714285714\n",
            "Step: 80, Epoch: 9, Loss: 0.08737549185752869, Accuracy: 0.5745714285714286\n",
            "Step: 80, Epoch: 10, Loss: 0.09136547893285751, Accuracy: 0.594\n",
            "Step: 80, Epoch: 11, Loss: 0.0897659957408905, Accuracy: 0.6058571428571429\n",
            "Step: 80, Epoch: 12, Loss: 0.09457314014434814, Accuracy: 0.6114285714285714\n",
            "Step: 80, Epoch: 13, Loss: 0.09091122448444366, Accuracy: 0.6171428571428571\n",
            "Step: 80, Epoch: 14, Loss: 0.09357957541942596, Accuracy: 0.6201428571428571\n",
            "Step: 80, Epoch: 15, Loss: 0.09739205241203308, Accuracy: 0.636\n",
            "Step: 80, Epoch: 16, Loss: 0.09361734241247177, Accuracy: 0.643\n",
            "Step: 80, Epoch: 17, Loss: 0.08959273248910904, Accuracy: 0.6518571428571428\n",
            "Step: 80, Epoch: 18, Loss: 0.09487087279558182, Accuracy: 0.6534285714285715\n",
            "Step: 80, Epoch: 19, Loss: 0.0889592170715332, Accuracy: 0.6645714285714286\n",
            "Step: 80, Epoch: 20, Loss: 0.09278817474842072, Accuracy: 0.6741428571428572\n",
            "Step: 80, Epoch: 21, Loss: 0.08608090877532959, Accuracy: 0.6684285714285715\n",
            "Step: 80, Epoch: 22, Loss: 0.08888521790504456, Accuracy: 0.6711428571428572\n",
            "Step: 80, Epoch: 23, Loss: 0.08934197574853897, Accuracy: 0.6812857142857143\n",
            "Step: 80, Epoch: 24, Loss: 0.09385237097740173, Accuracy: 0.6777142857142857\n",
            "Step: 80, Epoch: 25, Loss: 0.08687393367290497, Accuracy: 0.695\n",
            "Step: 80, Epoch: 26, Loss: 0.09715939313173294, Accuracy: 0.6974285714285714\n",
            "Step: 80, Epoch: 27, Loss: 0.0874362587928772, Accuracy: 0.7034285714285714\n",
            "Step: 80, Epoch: 28, Loss: 0.08999509364366531, Accuracy: 0.6974285714285714\n",
            "Step: 80, Epoch: 29, Loss: 0.0837414562702179, Accuracy: 0.7065714285714285\n",
            "Step: 80, Epoch: 30, Loss: 0.08654695749282837, Accuracy: 0.713\n",
            "Step: 80, Epoch: 31, Loss: 0.09132244437932968, Accuracy: 0.6967142857142857\n",
            "Step: 80, Epoch: 32, Loss: 0.09228889644145966, Accuracy: 0.7028571428571428\n",
            "Step: 80, Epoch: 33, Loss: 0.0866829976439476, Accuracy: 0.7102857142857143\n",
            "Step: 80, Epoch: 34, Loss: 0.08887879550457001, Accuracy: 0.7167142857142857\n",
            "Step: 80, Epoch: 35, Loss: 0.08317168056964874, Accuracy: 0.7227142857142858\n",
            "Step: 80, Epoch: 36, Loss: 0.08707555383443832, Accuracy: 0.7214285714285714\n",
            "Step: 80, Epoch: 37, Loss: 0.08828750252723694, Accuracy: 0.719\n",
            "Step: 80, Epoch: 38, Loss: 0.08757487684488297, Accuracy: 0.7304285714285714\n",
            "Step: 80, Epoch: 39, Loss: 0.08541412651538849, Accuracy: 0.726\n",
            "Step: 80, Epoch: 40, Loss: 0.08522289991378784, Accuracy: 0.7331428571428571\n",
            "Step: 80, Epoch: 41, Loss: 0.08834844827651978, Accuracy: 0.742\n",
            "Step: 80, Epoch: 42, Loss: 0.08605746924877167, Accuracy: 0.739\n",
            "Step: 80, Epoch: 43, Loss: 0.08505759388208389, Accuracy: 0.7304285714285714\n",
            "Step: 80, Epoch: 44, Loss: 0.08704038709402084, Accuracy: 0.7354285714285714\n",
            "Step: 80, Epoch: 45, Loss: 0.08925211429595947, Accuracy: 0.7437142857142857\n",
            "Step: 80, Epoch: 46, Loss: 0.0872403085231781, Accuracy: 0.7471428571428571\n",
            "Step: 80, Epoch: 47, Loss: 0.08881035447120667, Accuracy: 0.7462857142857143\n",
            "Step: 80, Epoch: 48, Loss: 0.08872757107019424, Accuracy: 0.746\n",
            "Step: 80, Epoch: 49, Loss: 0.08563855290412903, Accuracy: 0.7888571428571428\n",
            "Step: 80, Epoch: 50, Loss: 0.08511777222156525, Accuracy: 0.806\n",
            "Step: 80, Epoch: 51, Loss: 0.08275150507688522, Accuracy: 0.8155714285714286\n",
            "Step: 80, Epoch: 52, Loss: 0.08115917444229126, Accuracy: 0.8204285714285714\n",
            "Step: 80, Epoch: 53, Loss: 0.08337634801864624, Accuracy: 0.8155714285714286\n",
            "Step: 80, Epoch: 54, Loss: 0.08403273671865463, Accuracy: 0.821\n",
            "Step: 80, Epoch: 55, Loss: 0.08232579380273819, Accuracy: 0.8234285714285714\n",
            "Step: 80, Epoch: 56, Loss: 0.08307819068431854, Accuracy: 0.8231428571428572\n",
            "Step: 80, Epoch: 57, Loss: 0.07808390259742737, Accuracy: 0.8327142857142857\n",
            "Step: 80, Epoch: 58, Loss: 0.08145429939031601, Accuracy: 0.8288571428571428\n",
            "Step: 80, Epoch: 59, Loss: 0.08309914171695709, Accuracy: 0.834\n",
            "Step: 80, Epoch: 60, Loss: 0.0780189260840416, Accuracy: 0.8327142857142857\n",
            "Step: 80, Epoch: 61, Loss: 0.08302941173315048, Accuracy: 0.8288571428571428\n",
            "Step: 80, Epoch: 62, Loss: 0.07876916974782944, Accuracy: 0.8337142857142857\n",
            "Step: 80, Epoch: 63, Loss: 0.08086931705474854, Accuracy: 0.838\n",
            "Step: 80, Epoch: 64, Loss: 0.08399759232997894, Accuracy: 0.8404285714285714\n",
            "Step: 80, Epoch: 65, Loss: 0.08196982741355896, Accuracy: 0.8392857142857143\n",
            "Step: 80, Epoch: 66, Loss: 0.07489817589521408, Accuracy: 0.8371428571428572\n",
            "Step: 80, Epoch: 67, Loss: 0.08235970884561539, Accuracy: 0.8407142857142857\n",
            "Step: 80, Epoch: 68, Loss: 0.08396744728088379, Accuracy: 0.8341428571428572\n",
            "Step: 80, Epoch: 69, Loss: 0.0791090726852417, Accuracy: 0.8411428571428572\n"
          ],
          "name": "stdout"
        },
        {
          "output_type": "stream",
          "text": [
            "/content/owr/icarl.py:173: UserWarning: To copy construct from a tensor, it is recommended to use sourceTensor.clone().detach() or sourceTensor.clone().detach().requires_grad_(True), rather than torch.tensor(sourceTensor).\n",
            "  image = torch.tensor(image).unsqueeze(0).float()\n"
          ],
          "name": "stderr"
        },
        {
          "output_type": "stream",
          "text": [
            "udpate representation:  1401 reduce exemplars: 0 costruct exemplars: 28\n",
            "{'n_neighbors': 11}\n",
            "task: 80 train accuracy = 0.9302\n",
            "task: 80 test accuracy = 0.4177777777777778\n",
            "90\n",
            "Step: 90, Epoch: 0, Loss: 0.10016753524541855, Accuracy: 0.24713467048710602\n",
            "Step: 90, Epoch: 1, Loss: 0.09541071206331253, Accuracy: 0.4005730659025788\n",
            "Step: 90, Epoch: 2, Loss: 0.09592337161302567, Accuracy: 0.4703438395415473\n",
            "Step: 90, Epoch: 3, Loss: 0.09423165023326874, Accuracy: 0.5173352435530086\n",
            "Step: 90, Epoch: 4, Loss: 0.0955708920955658, Accuracy: 0.5408309455587392\n",
            "Step: 90, Epoch: 5, Loss: 0.0908045619726181, Accuracy: 0.5656160458452723\n",
            "Step: 90, Epoch: 6, Loss: 0.09700790792703629, Accuracy: 0.5878223495702005\n",
            "Step: 90, Epoch: 7, Loss: 0.09740336239337921, Accuracy: 0.6073065902578797\n",
            "Step: 90, Epoch: 8, Loss: 0.08676496148109436, Accuracy: 0.6083094555873926\n",
            "Step: 90, Epoch: 9, Loss: 0.087281733751297, Accuracy: 0.6154727793696275\n",
            "Step: 90, Epoch: 10, Loss: 0.09665428847074509, Accuracy: 0.6322349570200573\n",
            "Step: 90, Epoch: 11, Loss: 0.09530729055404663, Accuracy: 0.65\n",
            "Step: 90, Epoch: 12, Loss: 0.09267590194940567, Accuracy: 0.6575931232091691\n",
            "Step: 90, Epoch: 13, Loss: 0.09717856347560883, Accuracy: 0.6643266475644699\n",
            "Step: 90, Epoch: 14, Loss: 0.09916967898607254, Accuracy: 0.6580229226361032\n",
            "Step: 90, Epoch: 15, Loss: 0.09143953770399094, Accuracy: 0.6667621776504298\n",
            "Step: 90, Epoch: 16, Loss: 0.08832934498786926, Accuracy: 0.6750716332378224\n",
            "Step: 90, Epoch: 17, Loss: 0.09386926889419556, Accuracy: 0.6697707736389685\n",
            "Step: 90, Epoch: 18, Loss: 0.09102366119623184, Accuracy: 0.6886819484240687\n",
            "Step: 90, Epoch: 19, Loss: 0.10291891545057297, Accuracy: 0.686676217765043\n",
            "Step: 90, Epoch: 20, Loss: 0.08909725397825241, Accuracy: 0.689971346704871\n",
            "Step: 90, Epoch: 21, Loss: 0.09605296701192856, Accuracy: 0.6968481375358166\n",
            "Step: 90, Epoch: 22, Loss: 0.09284690767526627, Accuracy: 0.7007163323782235\n",
            "Step: 90, Epoch: 23, Loss: 0.09018392115831375, Accuracy: 0.7042979942693409\n",
            "Step: 90, Epoch: 24, Loss: 0.09701254218816757, Accuracy: 0.7174785100286533\n",
            "Step: 90, Epoch: 25, Loss: 0.09462454169988632, Accuracy: 0.7060171919770774\n",
            "Step: 90, Epoch: 26, Loss: 0.09740476310253143, Accuracy: 0.7124641833810889\n",
            "Step: 90, Epoch: 27, Loss: 0.09521181881427765, Accuracy: 0.7229226361031519\n",
            "Step: 90, Epoch: 28, Loss: 0.09685462713241577, Accuracy: 0.7220630372492837\n",
            "Step: 90, Epoch: 29, Loss: 0.0977109894156456, Accuracy: 0.7220630372492837\n",
            "Step: 90, Epoch: 30, Loss: 0.09482292085886002, Accuracy: 0.7310888252148997\n",
            "Step: 90, Epoch: 31, Loss: 0.09400167316198349, Accuracy: 0.7401146131805157\n",
            "Step: 90, Epoch: 32, Loss: 0.08814318478107452, Accuracy: 0.7398280802292264\n",
            "Step: 90, Epoch: 33, Loss: 0.10045231878757477, Accuracy: 0.7393982808022923\n",
            "Step: 90, Epoch: 34, Loss: 0.09586594998836517, Accuracy: 0.7336676217765044\n",
            "Step: 90, Epoch: 35, Loss: 0.0912991315126419, Accuracy: 0.7379656160458453\n",
            "Step: 90, Epoch: 36, Loss: 0.09214138984680176, Accuracy: 0.73810888252149\n",
            "Step: 90, Epoch: 37, Loss: 0.09279410541057587, Accuracy: 0.7464183381088825\n",
            "Step: 90, Epoch: 38, Loss: 0.09069301187992096, Accuracy: 0.7492836676217765\n",
            "Step: 90, Epoch: 39, Loss: 0.09472576528787613, Accuracy: 0.7452722063037249\n",
            "Step: 90, Epoch: 40, Loss: 0.09175875782966614, Accuracy: 0.7455587392550144\n",
            "Step: 90, Epoch: 41, Loss: 0.09500458836555481, Accuracy: 0.7537249283667622\n",
            "Step: 90, Epoch: 42, Loss: 0.09901456534862518, Accuracy: 0.7551575931232092\n",
            "Step: 90, Epoch: 43, Loss: 0.0939725711941719, Accuracy: 0.7568767908309456\n",
            "Step: 90, Epoch: 44, Loss: 0.09331168979406357, Accuracy: 0.759025787965616\n",
            "Step: 90, Epoch: 45, Loss: 0.0894886776804924, Accuracy: 0.7502865329512894\n",
            "Step: 90, Epoch: 46, Loss: 0.09700848907232285, Accuracy: 0.7570200573065903\n",
            "Step: 90, Epoch: 47, Loss: 0.09237345308065414, Accuracy: 0.7461318051575931\n",
            "Step: 90, Epoch: 48, Loss: 0.09259220957756042, Accuracy: 0.7550143266475645\n",
            "Step: 90, Epoch: 49, Loss: 0.08743086457252502, Accuracy: 0.7987106017191977\n",
            "Step: 90, Epoch: 50, Loss: 0.09025359898805618, Accuracy: 0.8051575931232091\n",
            "Step: 90, Epoch: 51, Loss: 0.09236417710781097, Accuracy: 0.8118911174785101\n",
            "Step: 90, Epoch: 52, Loss: 0.090516597032547, Accuracy: 0.8227793696275072\n",
            "Step: 90, Epoch: 53, Loss: 0.08531410992145538, Accuracy: 0.8177650429799427\n",
            "Step: 90, Epoch: 54, Loss: 0.08865822851657867, Accuracy: 0.8216332378223495\n",
            "Step: 90, Epoch: 55, Loss: 0.08790569752454758, Accuracy: 0.8237822349570201\n",
            "Step: 90, Epoch: 56, Loss: 0.08970284461975098, Accuracy: 0.824785100286533\n",
            "Step: 90, Epoch: 57, Loss: 0.08263246715068817, Accuracy: 0.8170487106017192\n",
            "Step: 90, Epoch: 58, Loss: 0.08446821570396423, Accuracy: 0.8220630372492836\n",
            "Step: 90, Epoch: 59, Loss: 0.08834143728017807, Accuracy: 0.8252148997134671\n",
            "Step: 90, Epoch: 60, Loss: 0.0864192321896553, Accuracy: 0.8189111747851003\n",
            "Step: 90, Epoch: 61, Loss: 0.08907485008239746, Accuracy: 0.8263610315186246\n",
            "Step: 90, Epoch: 62, Loss: 0.0910792201757431, Accuracy: 0.828080229226361\n",
            "Step: 90, Epoch: 63, Loss: 0.08664344251155853, Accuracy: 0.8378223495702005\n",
            "Step: 90, Epoch: 64, Loss: 0.08794637769460678, Accuracy: 0.833810888252149\n",
            "Step: 90, Epoch: 65, Loss: 0.08917073160409927, Accuracy: 0.8386819484240687\n",
            "Step: 90, Epoch: 66, Loss: 0.08558344095945358, Accuracy: 0.8259312320916905\n",
            "Step: 90, Epoch: 67, Loss: 0.08654468506574631, Accuracy: 0.8376790830945559\n",
            "Step: 90, Epoch: 68, Loss: 0.08232994377613068, Accuracy: 0.8345272206303725\n",
            "Step: 90, Epoch: 69, Loss: 0.08537164330482483, Accuracy: 0.8351002865329513\n"
          ],
          "name": "stdout"
        },
        {
          "output_type": "stream",
          "text": [
            "/content/owr/icarl.py:173: UserWarning: To copy construct from a tensor, it is recommended to use sourceTensor.clone().detach() or sourceTensor.clone().detach().requires_grad_(True), rather than torch.tensor(sourceTensor).\n",
            "  image = torch.tensor(image).unsqueeze(0).float()\n"
          ],
          "name": "stderr"
        },
        {
          "output_type": "stream",
          "text": [
            "udpate representation:  1504 reduce exemplars: 0 costruct exemplars: 30\n",
            "{'n_neighbors': 15}\n",
            "task: 90 train accuracy = 0.9222\n",
            "task: 90 test accuracy = 0.4017\n"
          ],
          "name": "stdout"
        }
      ]
    },
    {
      "cell_type": "code",
      "metadata": {
        "id": "DNzFNzSPGNGx"
      },
      "source": [
        "torch.save(ICaRL, \"./knnModel.pt\")"
      ],
      "execution_count": 16,
      "outputs": []
    },
    {
      "cell_type": "code",
      "metadata": {
        "id": "ftuKdfB7eZXo"
      },
      "source": [
        "n = 1254\n",
        "images_test = [n]\n",
        "example_test_ds = Subset(testDS, images_test, transform = test_transformer)\n",
        "example_test_loader = DataLoader( example_test_ds, num_workers=2, batch_size=params.BATCH_SIZE , shuffle=True )"
      ],
      "execution_count": 58,
      "outputs": []
    },
    {
      "cell_type": "code",
      "metadata": {
        "id": "yKj7SsndPcjl"
      },
      "source": [
        "x = testDS.__getitem__(n)[0]"
      ],
      "execution_count": 59,
      "outputs": []
    },
    {
      "cell_type": "code",
      "metadata": {
        "id": "tu4me0k4OVlt",
        "colab": {
          "base_uri": "https://localhost:8080/",
          "height": 282
        },
        "outputId": "aac485ce-145d-4898-f675-e67bbae3ac23"
      },
      "source": [
        "import matplotlib.pyplot as plt\n",
        "def show(img):\n",
        "    npimg = img.numpy()\n",
        "    plt.imshow(np.transpose(npimg, (1, 2, 0)), interpolation='nearest')\n",
        "show(x)"
      ],
      "execution_count": 60,
      "outputs": [
        {
          "output_type": "stream",
          "text": [
            "Clipping input data to the valid range for imshow with RGB data ([0..1] for floats or [0..255] for integers).\n"
          ],
          "name": "stderr"
        },
        {
          "output_type": "display_data",
          "data": {
            "image/png": "[encoded data removed]",
            "text/plain": [
              "<Figure size 432x288 with 1 Axes>"
            ]
          },
          "metadata": {
            "tags": [],
            "needs_background": "light"
          }
        }
      ]
    },
    {
      "cell_type": "code",
      "metadata": {
        "id": "bIn4lMgOLFJM"
      },
      "source": [
        "m = torch.nn.Softmax(dim=1)"
      ],
      "execution_count": 61,
      "outputs": []
    },
    {
      "cell_type": "code",
      "metadata": {
        "id": "bB2Lw43Dej3z"
      },
      "source": [
        "for img, lbl, _ in example_test_loader:\n",
        "    img = img.float().to(params.DEVICE)\n",
        "    classify_preds, _ = tmp_classify(img, exemplars, ICaRL, task, trainDS, mean, classifier, clf_params)\n",
        "    outputs_preds = m(ICaRL(img, features = 0).to('cpu'))"
      ],
      "execution_count": 62,
      "outputs": []
    },
    {
      "cell_type": "code",
      "metadata": {
        "id": "apAJr3KGLa2J",
        "colab": {
          "base_uri": "https://localhost:8080/"
        },
        "outputId": "349d8027-6b37-48a5-ef76-9feea9344a44"
      },
      "source": [
        "print(lbl, testDS.classes[lbl])"
      ],
      "execution_count": 63,
      "outputs": [
        {
          "output_type": "stream",
          "text": [
            "tensor([45]) lobster\n"
          ],
          "name": "stdout"
        }
      ]
    },
    {
      "cell_type": "code",
      "metadata": {
        "id": "yafnazHXMht_"
      },
      "source": [
        "df = pd.DataFrame(columns=['class_name', 'value'])"
      ],
      "execution_count": 64,
      "outputs": []
    },
    {
      "cell_type": "code",
      "metadata": {
        "id": "ip4dvxmqLCay"
      },
      "source": [
        "for i, el in enumerate(outputs_preds.tolist()[0]):\n",
        "  df.loc[i] = [testDS.classes[i], el]"
      ],
      "execution_count": 65,
      "outputs": []
    },
    {
      "cell_type": "code",
      "metadata": {
        "id": "TjPtNRbmNEdH",
        "colab": {
          "base_uri": "https://localhost:8080/",
          "height": 391
        },
        "outputId": "9b1da5a2-9187-440f-c2b7-0af8c217ab5b"
      },
      "source": [
        "df.sort_values(by=['value'], ascending=False)"
      ],
      "execution_count": 66,
      "outputs": [
        {
          "output_type": "execute_result",
          "data": {
            "text/html": [
              "<div>\n",
              "<style scoped>\n",
              "    .dataframe tbody tr th:only-of-type {\n",
              "        vertical-align: middle;\n",
              "    }\n",
              "\n",
              "    .dataframe tbody tr th {\n",
              "        vertical-align: top;\n",
              "    }\n",
              "\n",
              "    .dataframe thead th {\n",
              "        text-align: right;\n",
              "    }\n",
              "</style>\n",
              "<table border=\"1\" class=\"dataframe\">\n",
              "  <thead>\n",
              "    <tr style=\"text-align: right;\">\n",
              "      <th></th>\n",
              "      <th>class_name</th>\n",
              "      <th>value</th>\n",
              "    </tr>\n",
              "  </thead>\n",
              "  <tbody>\n",
              "    <tr>\n",
              "      <th>45</th>\n",
              "      <td>lobster</td>\n",
              "      <td>4.019312e-01</td>\n",
              "    </tr>\n",
              "    <tr>\n",
              "      <th>74</th>\n",
              "      <td>shrew</td>\n",
              "      <td>1.747842e-01</td>\n",
              "    </tr>\n",
              "    <tr>\n",
              "      <th>26</th>\n",
              "      <td>crab</td>\n",
              "      <td>9.750660e-02</td>\n",
              "    </tr>\n",
              "    <tr>\n",
              "      <th>78</th>\n",
              "      <td>snake</td>\n",
              "      <td>5.860752e-02</td>\n",
              "    </tr>\n",
              "    <tr>\n",
              "      <th>88</th>\n",
              "      <td>tiger</td>\n",
              "      <td>5.476668e-02</td>\n",
              "    </tr>\n",
              "    <tr>\n",
              "      <th>...</th>\n",
              "      <td>...</td>\n",
              "      <td>...</td>\n",
              "    </tr>\n",
              "    <tr>\n",
              "      <th>68</th>\n",
              "      <td>road</td>\n",
              "      <td>2.598849e-07</td>\n",
              "    </tr>\n",
              "    <tr>\n",
              "      <th>53</th>\n",
              "      <td>orange</td>\n",
              "      <td>2.188605e-07</td>\n",
              "    </tr>\n",
              "    <tr>\n",
              "      <th>36</th>\n",
              "      <td>hamster</td>\n",
              "      <td>9.242576e-09</td>\n",
              "    </tr>\n",
              "    <tr>\n",
              "      <th>60</th>\n",
              "      <td>plain</td>\n",
              "      <td>5.232689e-09</td>\n",
              "    </tr>\n",
              "    <tr>\n",
              "      <th>71</th>\n",
              "      <td>sea</td>\n",
              "      <td>2.743840e-09</td>\n",
              "    </tr>\n",
              "  </tbody>\n",
              "</table>\n",
              "<p>100 rows × 2 columns</p>\n",
              "</div>"
            ],
            "text/plain": [
              "   class_name         value\n",
              "45    lobster  4.019312e-01\n",
              "74      shrew  1.747842e-01\n",
              "26       crab  9.750660e-02\n",
              "78      snake  5.860752e-02\n",
              "88      tiger  5.476668e-02\n",
              "..        ...           ...\n",
              "68       road  2.598849e-07\n",
              "53     orange  2.188605e-07\n",
              "36    hamster  9.242576e-09\n",
              "60      plain  5.232689e-09\n",
              "71        sea  2.743840e-09\n",
              "\n",
              "[100 rows x 2 columns]"
            ]
          },
          "metadata": {
            "tags": []
          },
          "execution_count": 66
        }
      ]
    },
    {
      "cell_type": "code",
      "metadata": {
        "id": "8Nxb2dDXLVJD",
        "colab": {
          "base_uri": "https://localhost:8080/"
        },
        "outputId": "73470d31-fdbf-49e0-acef-993487782ca2"
      },
      "source": [
        "np.argmax(outputs_preds.tolist())"
      ],
      "execution_count": 37,
      "outputs": [
        {
          "output_type": "execute_result",
          "data": {
            "text/plain": [
              "20"
            ]
          },
          "metadata": {
            "tags": []
          },
          "execution_count": 37
        }
      ]
    },
    {
      "cell_type": "code",
      "metadata": {
        "id": "kXF1hPUILcul",
        "colab": {
          "base_uri": "https://localhost:8080/"
        },
        "outputId": "030b97a2-a737-423a-c035-bed9d1919a9f"
      },
      "source": [
        "classify_preds"
      ],
      "execution_count": 38,
      "outputs": [
        {
          "output_type": "execute_result",
          "data": {
            "text/plain": [
              "tensor([20])"
            ]
          },
          "metadata": {
            "tags": []
          },
          "execution_count": 38
        }
      ]
    }
  ]
}